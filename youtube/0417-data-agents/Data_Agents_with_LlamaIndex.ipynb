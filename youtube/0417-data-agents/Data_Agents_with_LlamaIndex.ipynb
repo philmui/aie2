{
  "cells": [
    {
      "cell_type": "markdown",
      "source": [
        "# Data Agents with LLamaIndex\n",
        "\n",
        "In LlamaIndex v0.10, the infrastructure for agents is centered around the idea of a Data Agent, or what they call an “LLM-powered knowledge worker.” While the query engines at the heart of LlamaIndex can read from vector databases, data agents can dynamically deal with data from vector databases and a host of external tools.\n",
        "\n",
        "​In this event, we deep dive into how LlamaIndex does agents, and how agents interact with the core constructs of nodes and query engines. We build a complex RAG capable of answering questions by reasoning through quantitative (structured) and qualitative (unstructured) information."
      ],
      "metadata": {
        "id": "x5TTdyIoo3i7"
      }
    },
    {
      "cell_type": "markdown",
      "metadata": {
        "id": "vcvGuykZSV_8"
      },
      "source": [
        "### A note on terminology:\n",
        "\n",
        "You'll notice that there are quite a few similarities between LangChain and LlamaIndex. LlamaIndex can largely be thought of as an extension to LangChain, in some ways - but they moved some of the language around. Let's spend a few moments disambiguating the language.\n",
        "\n",
        "- `QueryEngine` -> `LCEL Chain`:\n",
        "  -  `QueryEngine` is just LlamaIndex's way of indicating something is an LLM \"chain\" on top of a retrieval system\n",
        "- `OpenAIAgent` vs. `Agent`:\n",
        "  - The two agents have the same fundamental pattern: Decide which of a list of tools to use to answer a user's query.\n",
        "  - `OpenAIAgent` (LlamaIndex's primary agent) does not need to rely on an agent excecutor due to the fact that it is leveraging OpenAI's [functional api](https://openai.com/blog/function-calling-and-other-api-updates) which allows the agent to interface \"directly\" with the tools instead of operating through an intermediary application process.\n",
        "\n",
        "There is, however, a much large terminological difference when it comes to discussing data.\n",
        "\n",
        "##### Nodes vs. Documents\n",
        "\n",
        "As you're aware of from the previous weeks assignments, there's an idea of `documents` in NLP which refers to text objects that exist within a corpus of documents.\n",
        "\n",
        "LlamaIndex takes this a step further and reclassifies `documents` as `nodes`. Confusingly, it refers to the `Source Document` as simply `Documents`.\n",
        "\n",
        "The `Document` -> `node` structure is, almost exactly, equivalent to the `Source Document` -> `Document` structure found in LangChain - but the new terminology comes with some clarity about different structure-indices.\n",
        "\n",
        "We won't be leveraging those structured indicies today, but we will be leveraging a \"benefit\" of the `node` structure that exists as a default in LlamaIndex, which is the ability to quickly filter nodes based on their metadata.\n",
        "\n",
        "![image](https://i.imgur.com/B1QDjs5.png)"
      ]
    },
    {
      "cell_type": "markdown",
      "metadata": {
        "id": "Msvju70DSV_8"
      },
      "source": [
        "## BOILERPLATE\n",
        "\n",
        "This is only relevant when running the code in a Jupyter Notebook."
      ]
    },
    {
      "cell_type": "code",
      "execution_count": 1,
      "metadata": {
        "id": "7VF57GcmSV_9"
      },
      "outputs": [],
      "source": [
        "import nest_asyncio\n",
        "\n",
        "nest_asyncio.apply()\n",
        "\n",
        "import logging\n",
        "import sys\n",
        "\n",
        "logging.basicConfig(stream=sys.stdout, level=logging.INFO)\n",
        "logging.getLogger().addHandler(logging.StreamHandler(stream=sys.stdout))"
      ]
    },
    {
      "cell_type": "markdown",
      "metadata": {
        "id": "6zQBPs6zSV_9"
      },
      "source": [
        "## Load Dependencies"
      ]
    },
    {
      "cell_type": "markdown",
      "metadata": {
        "id": "WhEbxl3nSV_9"
      },
      "source": [
        "Let's grab our core `llama-index` library, as well as OpenAI's Python SDK.\n",
        "\n",
        "We'll be leveraging OpenAI's suite of APIs to power our RAG pipelines today.\n",
        "\n",
        "> NOTE: You can safely ignore any pip errors that occur during the running of these cells."
      ]
    },
    {
      "cell_type": "code",
      "execution_count": 2,
      "metadata": {
        "id": "b3oyvtl2SV_9",
        "colab": {
          "base_uri": "https://localhost:8080/"
        },
        "outputId": "d2d03404-3e7e-4528-c5e7-0c9f8e032fba"
      },
      "outputs": [
        {
          "output_type": "stream",
          "name": "stdout",
          "text": [
            "\u001b[2K     \u001b[90m━━━━━━━━━━━━━━━━━━━━━━━━━━━━━━━━━━━━━━━━\u001b[0m \u001b[32m308.7/308.7 kB\u001b[0m \u001b[31m3.6 MB/s\u001b[0m eta \u001b[36m0:00:00\u001b[0m\n",
            "\u001b[2K     \u001b[90m━━━━━━━━━━━━━━━━━━━━━━━━━━━━━━━━━━━━━━━━\u001b[0m \u001b[32m15.4/15.4 MB\u001b[0m \u001b[31m30.4 MB/s\u001b[0m eta \u001b[36m0:00:00\u001b[0m\n",
            "\u001b[2K     \u001b[90m━━━━━━━━━━━━━━━━━━━━━━━━━━━━━━━━━━━━━━━━\u001b[0m \u001b[32m2.0/2.0 MB\u001b[0m \u001b[31m47.2 MB/s\u001b[0m eta \u001b[36m0:00:00\u001b[0m\n",
            "\u001b[2K     \u001b[90m━━━━━━━━━━━━━━━━━━━━━━━━━━━━━━━━━━━━━━━━\u001b[0m \u001b[32m75.6/75.6 kB\u001b[0m \u001b[31m4.3 MB/s\u001b[0m eta \u001b[36m0:00:00\u001b[0m\n",
            "\u001b[2K     \u001b[90m━━━━━━━━━━━━━━━━━━━━━━━━━━━━━━━━━━━━━━━━\u001b[0m \u001b[32m77.9/77.9 kB\u001b[0m \u001b[31m5.2 MB/s\u001b[0m eta \u001b[36m0:00:00\u001b[0m\n",
            "\u001b[2K     \u001b[90m━━━━━━━━━━━━━━━━━━━━━━━━━━━━━━━━━━━━━━━━\u001b[0m \u001b[32m58.3/58.3 kB\u001b[0m \u001b[31m3.3 MB/s\u001b[0m eta \u001b[36m0:00:00\u001b[0m\n",
            "\u001b[2K     \u001b[90m━━━━━━━━━━━━━━━━━━━━━━━━━━━━━━━━━━━━━━━━\u001b[0m \u001b[32m136.1/136.1 kB\u001b[0m \u001b[31m13.5 MB/s\u001b[0m eta \u001b[36m0:00:00\u001b[0m\n",
            "\u001b[2K     \u001b[90m━━━━━━━━━━━━━━━━━━━━━━━━━━━━━━━━━━━━━━━━\u001b[0m \u001b[32m1.8/1.8 MB\u001b[0m \u001b[31m21.1 MB/s\u001b[0m eta \u001b[36m0:00:00\u001b[0m\n",
            "\u001b[2K     \u001b[90m━━━━━━━━━━━━━━━━━━━━━━━━━━━━━━━━━━━━━━━━\u001b[0m \u001b[32m290.4/290.4 kB\u001b[0m \u001b[31m10.8 MB/s\u001b[0m eta \u001b[36m0:00:00\u001b[0m\n",
            "\u001b[2K     \u001b[90m━━━━━━━━━━━━━━━━━━━━━━━━━━━━━━━━━━━━━━━━\u001b[0m \u001b[32m49.4/49.4 kB\u001b[0m \u001b[31m2.2 MB/s\u001b[0m eta \u001b[36m0:00:00\u001b[0m\n",
            "\u001b[?25h"
          ]
        }
      ],
      "source": [
        "!pip install -qU llama-index openai"
      ]
    },
    {
      "cell_type": "markdown",
      "source": [
        "We'll be collecting our semantic data from Wikipedia - and so will need the [Wikipedia Reader](https://github.com/run-llama/llama_index/tree/main/llama-index-integrations/readers/llama-index-readers-wikipedia)!"
      ],
      "metadata": {
        "id": "uqTXRTrLPatl"
      }
    },
    {
      "cell_type": "code",
      "execution_count": 3,
      "metadata": {
        "id": "f9kXf7pPSV_-",
        "colab": {
          "base_uri": "https://localhost:8080/"
        },
        "outputId": "f687a321-4ea7-4ecd-a0c3-acf143336833"
      },
      "outputs": [
        {
          "output_type": "stream",
          "name": "stdout",
          "text": [
            "  Preparing metadata (setup.py) ... \u001b[?25l\u001b[?25hdone\n",
            "  Building wheel for wikipedia (setup.py) ... \u001b[?25l\u001b[?25hdone\n"
          ]
        }
      ],
      "source": [
        "!pip install -qU wikipedia llama-index-readers-wikipedia"
      ]
    },
    {
      "cell_type": "markdown",
      "source": [
        "Our vector database today will be powered by [QDrant](https://qdrant.tech/) and so we'll need that package as well!"
      ],
      "metadata": {
        "id": "Qq_rWHZEPrCO"
      }
    },
    {
      "cell_type": "code",
      "source": [
        "!pip install -qU llama-index-vector-stores-qdrant qdrant-client"
      ],
      "metadata": {
        "id": "iMCA8HFGEPF_",
        "colab": {
          "base_uri": "https://localhost:8080/"
        },
        "outputId": "faed358f-3ca2-45fc-a8ed-590bfa6eb549"
      },
      "execution_count": 4,
      "outputs": [
        {
          "output_type": "stream",
          "name": "stdout",
          "text": [
            "\u001b[2K     \u001b[90m━━━━━━━━━━━━━━━━━━━━━━━━━━━━━━━━━━━━━━━━\u001b[0m \u001b[32m223.2/223.2 kB\u001b[0m \u001b[31m4.9 MB/s\u001b[0m eta \u001b[36m0:00:00\u001b[0m\n",
            "\u001b[2K     \u001b[90m━━━━━━━━━━━━━━━━━━━━━━━━━━━━━━━━━━━━━━━━\u001b[0m \u001b[32m2.8/2.8 MB\u001b[0m \u001b[31m13.0 MB/s\u001b[0m eta \u001b[36m0:00:00\u001b[0m\n",
            "\u001b[2K     \u001b[90m━━━━━━━━━━━━━━━━━━━━━━━━━━━━━━━━━━━━━━━━\u001b[0m \u001b[32m294.6/294.6 kB\u001b[0m \u001b[31m15.9 MB/s\u001b[0m eta \u001b[36m0:00:00\u001b[0m\n",
            "\u001b[2K     \u001b[90m━━━━━━━━━━━━━━━━━━━━━━━━━━━━━━━━━━━━━━━━\u001b[0m \u001b[32m57.5/57.5 kB\u001b[0m \u001b[31m7.6 MB/s\u001b[0m eta \u001b[36m0:00:00\u001b[0m\n",
            "\u001b[?25h\u001b[31mERROR: pip's dependency resolver does not currently take into account all the packages that are installed. This behaviour is the source of the following dependency conflicts.\n",
            "tensorflow-metadata 1.14.0 requires protobuf<4.21,>=3.20.3, but you have protobuf 4.25.3 which is incompatible.\u001b[0m\u001b[31m\n",
            "\u001b[0m"
          ]
        }
      ]
    },
    {
      "cell_type": "markdown",
      "source": [
        "Finally, we'll need to grab a few dependencies related to our quantitative data!"
      ],
      "metadata": {
        "id": "wNHDqna1P1NQ"
      }
    },
    {
      "cell_type": "code",
      "execution_count": 5,
      "metadata": {
        "id": "BrT8a3c0SV__",
        "colab": {
          "base_uri": "https://localhost:8080/"
        },
        "outputId": "be21619a-62c9-485e-8329-10fc14dd99cc"
      },
      "outputs": [
        {
          "output_type": "stream",
          "name": "stdout",
          "text": [
            "\u001b[2K     \u001b[90m━━━━━━━━━━━━━━━━━━━━━━━━━━━━━━━━━━━━━━━━\u001b[0m \u001b[32m13.0/13.0 MB\u001b[0m \u001b[31m29.3 MB/s\u001b[0m eta \u001b[36m0:00:00\u001b[0m\n",
            "\u001b[?25h\u001b[31mERROR: pip's dependency resolver does not currently take into account all the packages that are installed. This behaviour is the source of the following dependency conflicts.\n",
            "google-colab 1.0.0 requires pandas==2.0.3, but you have pandas 2.2.2 which is incompatible.\u001b[0m\u001b[31m\n",
            "\u001b[0m"
          ]
        }
      ],
      "source": [
        "!pip install -q -U sqlalchemy pandas"
      ]
    },
    {
      "cell_type": "markdown",
      "source": [
        "### Optional Dependency"
      ],
      "metadata": {
        "id": "6Jifl-qHO8MU"
      }
    },
    {
      "cell_type": "markdown",
      "source": [
        "We'll can use [Weights and Biases](https://docs.wandb.ai/guides/prompts) (WandB) as a visibility platform, as well as storing our index!"
      ],
      "metadata": {
        "id": "SS3I4FUabE-g"
      }
    },
    {
      "cell_type": "code",
      "source": [
        "!pip install -qU wandb llama-index-callbacks-wandb"
      ],
      "metadata": {
        "id": "9UcQpjG9Ovlk",
        "colab": {
          "base_uri": "https://localhost:8080/"
        },
        "outputId": "fae6cac8-d97e-4924-90d6-6803b2c78053"
      },
      "execution_count": 6,
      "outputs": [
        {
          "output_type": "stream",
          "name": "stdout",
          "text": [
            "\u001b[2K     \u001b[90m━━━━━━━━━━━━━━━━━━━━━━━━━━━━━━━━━━━━━━━━\u001b[0m \u001b[32m2.2/2.2 MB\u001b[0m \u001b[31m11.1 MB/s\u001b[0m eta \u001b[36m0:00:00\u001b[0m\n",
            "\u001b[2K     \u001b[90m━━━━━━━━━━━━━━━━━━━━━━━━━━━━━━━━━━━━━━━━\u001b[0m \u001b[32m207.3/207.3 kB\u001b[0m \u001b[31m18.3 MB/s\u001b[0m eta \u001b[36m0:00:00\u001b[0m\n",
            "\u001b[2K     \u001b[90m━━━━━━━━━━━━━━━━━━━━━━━━━━━━━━━━━━━━━━━━\u001b[0m \u001b[32m267.1/267.1 kB\u001b[0m \u001b[31m15.3 MB/s\u001b[0m eta \u001b[36m0:00:00\u001b[0m\n",
            "\u001b[2K     \u001b[90m━━━━━━━━━━━━━━━━━━━━━━━━━━━━━━━━━━━━━━━━\u001b[0m \u001b[32m62.7/62.7 kB\u001b[0m \u001b[31m8.4 MB/s\u001b[0m eta \u001b[36m0:00:00\u001b[0m\n",
            "\u001b[?25h"
          ]
        }
      ]
    },
    {
      "cell_type": "code",
      "execution_count": 7,
      "metadata": {
        "id": "4OHSwkDySV_-",
        "colab": {
          "base_uri": "https://localhost:8080/"
        },
        "outputId": "9db71978-f013-481d-b6fe-c32a1f5b244a"
      },
      "outputs": [
        {
          "name": "stdout",
          "output_type": "stream",
          "text": [
            "WandB API Key: ··········\n"
          ]
        }
      ],
      "source": [
        "import os\n",
        "import getpass\n",
        "\n",
        "os.environ[\"WANDB_API_KEY\"] = getpass.getpass(\"WandB API Key: \")"
      ]
    },
    {
      "cell_type": "markdown",
      "source": [
        "We'll also need to set a callback handler for WandB to ensure smooth operation of our traces!"
      ],
      "metadata": {
        "id": "Ut8E447rQBjY"
      }
    },
    {
      "cell_type": "code",
      "execution_count": 8,
      "metadata": {
        "id": "MoV2JINuSV_-",
        "colab": {
          "base_uri": "https://localhost:8080/",
          "height": 71
        },
        "outputId": "5a1a0e07-8805-4f11-ba84-ee01b23f6817"
      },
      "outputs": [
        {
          "output_type": "stream",
          "name": "stderr",
          "text": [
            "\u001b[34m\u001b[1mwandb\u001b[0m: Streaming LlamaIndex events to W&B at https://wandb.ai/philmui/data-agents-demo/runs/iznglq7u\n",
            "\u001b[34m\u001b[1mwandb\u001b[0m: `WandbCallbackHandler` is currently in beta.\n",
            "\u001b[34m\u001b[1mwandb\u001b[0m: Please report any issues to https://github.com/wandb/wandb/issues with the tag `llamaindex`.\n"
          ]
        }
      ],
      "source": [
        "import llama_index\n",
        "from llama_index.core import set_global_handler\n",
        "\n",
        "set_global_handler(\"wandb\", run_args={\"project\": \"data-agents-demo\"})\n",
        "wandb_callback = llama_index.core.global_handler"
      ]
    },
    {
      "cell_type": "markdown",
      "source": [
        "## Task 2: Set Env Variables and Set Up WandB Callback\n",
        "\n",
        "Let's set our API keys for both OpenAI and WandB!"
      ],
      "metadata": {
        "id": "ibtguieHP6n1"
      }
    },
    {
      "cell_type": "code",
      "execution_count": 9,
      "metadata": {
        "id": "7IBgMTPTSV_9",
        "colab": {
          "base_uri": "https://localhost:8080/"
        },
        "outputId": "8e396f6d-f36c-4ee3-badd-c8c3f4209a47"
      },
      "outputs": [
        {
          "name": "stdout",
          "output_type": "stream",
          "text": [
            "OpenAI API Key: ··········\n"
          ]
        }
      ],
      "source": [
        "import os\n",
        "import getpass\n",
        "\n",
        "os.environ[\"OPENAI_API_KEY\"] = getpass.getpass(\"OpenAI API Key: \")"
      ]
    },
    {
      "cell_type": "markdown",
      "metadata": {
        "id": "UQwigweOSV_-"
      },
      "source": [
        "### Task 3: Settings\n",
        "\n",
        "LlamaIndex lets us set global settings which we can use to influence the default behaviour of our components.\n",
        "\n",
        "Let's set our LLM and our Embedding Model!"
      ]
    },
    {
      "cell_type": "code",
      "execution_count": 10,
      "metadata": {
        "id": "6KOy21KPSV_-"
      },
      "outputs": [],
      "source": [
        "from llama_index.llms.openai import OpenAI\n",
        "from llama_index.embeddings.openai import OpenAIEmbedding\n",
        "from llama_index.core import Settings\n",
        "\n",
        "Settings.llm = OpenAI(model=\"gpt-3.5-turbo\")\n",
        "Settings.embed_model = OpenAIEmbedding(model=\"text-embedding-3-small\")"
      ]
    },
    {
      "cell_type": "markdown",
      "metadata": {
        "id": "eiOdw7EQSV_-"
      },
      "source": [
        "## `Index` Creation\n",
        "\n",
        "In order for us to perform RAG in the traditional sense - we need an `Index`.\n",
        "\n",
        "So what is an `Index`? Well - let's see how LlamaIndex defines it:\n",
        "\n",
        "> In LlamaIndex terms, an `Index` is a data structure composed of Document objects, designed to enable querying by an LLM. Your Index is designed to be complementary to your querying strategy.\n",
        "\n",
        "Okay, so we know that we have a boatload of Wikipedia content - and we know that we want to be able to query the `Index` and receive documents that are related to our query - so let's use an `Index` built on the idea of embedding-vectors.\n",
        "\n",
        "Introducing: `VectorStoreIndex`!\n",
        "\n",
        "Again, let's see how LlamaIndex defines this:\n",
        "\n",
        "> A `VectorStoreIndex` is by far the most frequent type of `Index` you'll encounter. The Vector Store Index takes your Documents and splits them up into Nodes. It then creates `vector` embeddings of the text of every node, ready to be queried by an LLM.\n",
        "\n",
        "Alright, that sounds awesome - let's make one!"
      ]
    },
    {
      "cell_type": "markdown",
      "metadata": {
        "id": "iDEtQQWnSV_-"
      },
      "source": [
        "### Data Collection\n",
        "\n",
        "We're just going to be pulling information straight from Wikipedia using the built in `WikipediaReader`.\n",
        "\n",
        "> NOTE: Setting `auto_suggest=False` ensures we run into fewer auto-correct based errors."
      ]
    },
    {
      "cell_type": "code",
      "execution_count": 11,
      "metadata": {
        "id": "OrzzrnYMSV_-"
      },
      "outputs": [],
      "source": [
        "from llama_index.readers.wikipedia import WikipediaReader\n",
        "\n",
        "movie_list = [\n",
        "    \"Dune (2021 film)\",\n",
        "    \"Dune: Part Two\",\n",
        "    \"Harry Potter and the Philosopher's Stone (film)\",\n",
        "    \"Harry Potter and the Chamber of Secrets (film)\",\n",
        "    \"The Lord of the Rings: The Fellowship of the Ring\",\n",
        "    \"The Lord of the Rings: The Two Towers\",\n",
        "    \"The Hobbit: An Unexpected Journey\",\n",
        "    \"The Hobbit: The Desolation of Smaug\"\n",
        "]\n",
        "\n",
        "wiki_docs = WikipediaReader().load_data(pages=movie_list, auto_suggest=False)"
      ]
    },
    {
      "cell_type": "markdown",
      "metadata": {
        "id": "-6FRQ4hfSV_-"
      },
      "source": [
        "### Initializing our `VectorStoreIndex` with QDrant\n",
        "\n",
        "QDrant is a locally hostable and open-source vector database solution.\n",
        "\n",
        "It offers powerful features like metadata filtering out of the box, and will suit our needs well today!\n",
        "\n",
        "We'll start by creating our local `:memory:` client (in-memory and not meant for production use-cases) and our collection."
      ]
    },
    {
      "cell_type": "code",
      "source": [
        "from llama_index.vector_stores.qdrant import QdrantVectorStore\n",
        "from qdrant_client import QdrantClient, models\n",
        "\n",
        "client = QdrantClient(location=\":memory:\")\n",
        "\n",
        "client.create_collection(\n",
        "    collection_name=\"movie_wikis\",\n",
        "    vectors_config=models.VectorParams(size=1536, distance=models.Distance.COSINE)\n",
        ")"
      ],
      "metadata": {
        "id": "b1ut96aSEVwY",
        "colab": {
          "base_uri": "https://localhost:8080/"
        },
        "outputId": "a377753c-ca92-429a-e68c-a78a246a8498"
      },
      "execution_count": 12,
      "outputs": [
        {
          "output_type": "execute_result",
          "data": {
            "text/plain": [
              "True"
            ]
          },
          "metadata": {},
          "execution_count": 12
        }
      ]
    },
    {
      "cell_type": "markdown",
      "source": [
        "Then we'll create our `VectorStore` and `StorageContext` which will allow us to create an empty `VectorStoreIndex` which we will be able to add nodes to later!"
      ],
      "metadata": {
        "id": "Fa3mbrfGnkCk"
      }
    },
    {
      "cell_type": "code",
      "execution_count": 13,
      "metadata": {
        "id": "lZ5xilm1SV_-",
        "colab": {
          "base_uri": "https://localhost:8080/"
        },
        "outputId": "261c564b-f5b6-407f-9ae6-79754b916799"
      },
      "outputs": [
        {
          "output_type": "stream",
          "name": "stderr",
          "text": [
            "\u001b[34m\u001b[1mwandb\u001b[0m: Logged trace tree to W&B.\n"
          ]
        }
      ],
      "source": [
        "from llama_index.core import VectorStoreIndex\n",
        "from llama_index.core import StorageContext\n",
        "\n",
        "vector_store = QdrantVectorStore(client=client, collection_name=\"movie_wikis\")\n",
        "\n",
        "storage_context = StorageContext.from_defaults(vector_store=vector_store)\n",
        "\n",
        "index = VectorStoreIndex.from_documents(\n",
        "    [],\n",
        "    storage_context=storage_context,\n",
        ")"
      ]
    },
    {
      "cell_type": "markdown",
      "metadata": {
        "id": "6qtzVDelSV_-"
      },
      "source": [
        "### Node Construction\n",
        "\n",
        "Now we will loop through our documents and metadata and construct nodes.\n",
        "\n",
        "We'll make sure to explicitly associate our nodes with their respective movie so we can filter by the movie title in the upcoming cells.\n",
        "\n",
        "You might be thinking to yourself - wait, we never indicated which embedding model this should use - but remember"
      ]
    },
    {
      "cell_type": "code",
      "execution_count": 14,
      "metadata": {
        "id": "LP4INgSGSV_-",
        "colab": {
          "base_uri": "https://localhost:8080/"
        },
        "outputId": "306ced4e-bbac-465c-8fd2-00df5d4046c0"
      },
      "outputs": [
        {
          "output_type": "stream",
          "name": "stderr",
          "text": [
            "\u001b[34m\u001b[1mwandb\u001b[0m: Logged trace tree to W&B.\n",
            "\u001b[34m\u001b[1mwandb\u001b[0m: Logged trace tree to W&B.\n",
            "\u001b[34m\u001b[1mwandb\u001b[0m: Logged trace tree to W&B.\n",
            "\u001b[34m\u001b[1mwandb\u001b[0m: Logged trace tree to W&B.\n",
            "\u001b[34m\u001b[1mwandb\u001b[0m: Logged trace tree to W&B.\n",
            "\u001b[34m\u001b[1mwandb\u001b[0m: Logged trace tree to W&B.\n",
            "\u001b[34m\u001b[1mwandb\u001b[0m: Logged trace tree to W&B.\n",
            "\u001b[34m\u001b[1mwandb\u001b[0m: Logged trace tree to W&B.\n"
          ]
        }
      ],
      "source": [
        "from llama_index.core import SimpleDirectoryReader\n",
        "from llama_index.core.ingestion import IngestionPipeline\n",
        "from llama_index.core.node_parser import TokenTextSplitter\n",
        "from llama_index.core.extractors import TitleExtractor\n",
        "\n",
        "pipeline = IngestionPipeline(transformations=[TokenTextSplitter()])\n",
        "\n",
        "for movie, wiki_doc in zip(movie_list, wiki_docs):\n",
        "  nodes = pipeline.run(documents=[wiki_doc])\n",
        "  for node in nodes:\n",
        "      node.metadata = {\"title\" : movie}\n",
        "  index.insert_nodes(nodes)"
      ]
    },
    {
      "cell_type": "markdown",
      "source": [
        "## Simple RAG - QueryEngine\n",
        "\n",
        "Now that we're created our `VectorStoreIndex`, powered by a QDrant VectorStore, we can wrap it in a simple `QueryEngine` using the `as_query_engine()` method - which will connect a few things together for us:"
      ],
      "metadata": {
        "id": "kCSHKnb0mIte"
      }
    },
    {
      "cell_type": "code",
      "source": [
        "simple_rag = index.as_query_engine()"
      ],
      "metadata": {
        "id": "3ipb8j6dfLcO"
      },
      "execution_count": 15,
      "outputs": []
    },
    {
      "cell_type": "markdown",
      "source": [
        "Before we test this out - let's see what information we can find out about from our new `QueryEngine`!"
      ],
      "metadata": {
        "id": "zgJZGr5FqAME"
      }
    },
    {
      "cell_type": "code",
      "source": [
        "for k, v in simple_rag.get_prompts().items():\n",
        "  print(v.get_template())\n",
        "  print(\"\\n~~~~~~~~~~~~~~~~~~\\n\")"
      ],
      "metadata": {
        "colab": {
          "base_uri": "https://localhost:8080/"
        },
        "id": "L-3v4ntaqFmd",
        "outputId": "a81ed935-4839-4597-bd8a-07fbef1893d8"
      },
      "execution_count": 16,
      "outputs": [
        {
          "output_type": "stream",
          "name": "stdout",
          "text": [
            "Context information is below.\n",
            "---------------------\n",
            "{context_str}\n",
            "---------------------\n",
            "Given the context information and not prior knowledge, answer the query.\n",
            "Query: {query_str}\n",
            "Answer: \n",
            "\n",
            "~~~~~~~~~~~~~~~~~~\n",
            "\n",
            "The original query is as follows: {query_str}\n",
            "We have provided an existing answer: {existing_answer}\n",
            "We have the opportunity to refine the existing answer (only if needed) with some more context below.\n",
            "------------\n",
            "{context_msg}\n",
            "------------\n",
            "Given the new context, refine the original answer to better answer the query. If the context isn't useful, return the original answer.\n",
            "Refined Answer: \n",
            "\n",
            "~~~~~~~~~~~~~~~~~~\n",
            "\n"
          ]
        }
      ]
    },
    {
      "cell_type": "markdown",
      "source": [
        "Let's see how it does!"
      ],
      "metadata": {
        "id": "N1YoR45tnv8h"
      }
    },
    {
      "cell_type": "code",
      "source": [
        "response = simple_rag.query(\"Who is the evil Wizard in the story?\")"
      ],
      "metadata": {
        "id": "FgpQhKobfQ7y",
        "colab": {
          "base_uri": "https://localhost:8080/"
        },
        "outputId": "3d9e33a8-e8c8-42cf-f615-0362466cd1ae"
      },
      "execution_count": 17,
      "outputs": [
        {
          "output_type": "stream",
          "name": "stderr",
          "text": [
            "\u001b[34m\u001b[1mwandb\u001b[0m: Logged trace tree to W&B.\n"
          ]
        }
      ]
    },
    {
      "cell_type": "code",
      "source": [
        "response.response"
      ],
      "metadata": {
        "colab": {
          "base_uri": "https://localhost:8080/",
          "height": 35
        },
        "id": "654d4vdfhnVq",
        "outputId": "40888bcb-9157-4ea0-95ad-574534c904e3"
      },
      "execution_count": 18,
      "outputs": [
        {
          "output_type": "execute_result",
          "data": {
            "text/plain": [
              "'Lord Voldemort'"
            ],
            "application/vnd.google.colaboratory.intrinsic+json": {
              "type": "string"
            }
          },
          "metadata": {},
          "execution_count": 18
        }
      ]
    },
    {
      "cell_type": "markdown",
      "source": [
        "That makes sense!\n",
        "\n",
        "Let's ask a question that's slightly more...ambiguous."
      ],
      "metadata": {
        "id": "D8rRiijvpVoQ"
      }
    },
    {
      "cell_type": "code",
      "source": [
        "response = simple_rag.query(\"Who are the giant beings that roam across the world?\")"
      ],
      "metadata": {
        "id": "_m0H1tbLiqME",
        "colab": {
          "base_uri": "https://localhost:8080/"
        },
        "outputId": "a8a6e66f-4232-4165-fd61-51e739bb9ed4"
      },
      "execution_count": 19,
      "outputs": [
        {
          "output_type": "stream",
          "name": "stderr",
          "text": [
            "\u001b[34m\u001b[1mwandb\u001b[0m: Logged trace tree to W&B.\n"
          ]
        }
      ]
    },
    {
      "cell_type": "code",
      "source": [
        "response.response"
      ],
      "metadata": {
        "colab": {
          "base_uri": "https://localhost:8080/",
          "height": 35
        },
        "id": "TEh4yjQzizeV",
        "outputId": "617e29f5-0f83-40fe-dbf6-a9dbff5a1226"
      },
      "execution_count": 20,
      "outputs": [
        {
          "output_type": "execute_result",
          "data": {
            "text/plain": [
              "'Stone Giants are the giant beings that roam across the world in the context provided.'"
            ],
            "application/vnd.google.colaboratory.intrinsic+json": {
              "type": "string"
            }
          },
          "metadata": {},
          "execution_count": 20
        }
      ]
    },
    {
      "cell_type": "markdown",
      "source": [
        "We can check the source nodes to see which movies we retrieved."
      ],
      "metadata": {
        "id": "xOb6eh8_pnaX"
      }
    },
    {
      "cell_type": "code",
      "source": [
        "print([x.metadata[\"title\"] for x in response.source_nodes])"
      ],
      "metadata": {
        "colab": {
          "base_uri": "https://localhost:8080/"
        },
        "id": "y_qyApFDpPny",
        "outputId": "a0f2c0a1-a8e7-4682-a1fd-d81992dcb4b8"
      },
      "execution_count": 21,
      "outputs": [
        {
          "output_type": "stream",
          "name": "stdout",
          "text": [
            "['Dune (2021 film)', 'The Hobbit: An Unexpected Journey']\n"
          ]
        }
      ]
    },
    {
      "cell_type": "markdown",
      "source": [
        "Okay, so in this case - we've gone with \"Stone Giants\" from the Hobbit.\n",
        "\n",
        "But there's also the sandworms from Dune, and the Ents from Lord of the Rings, and it looks like we got documents from Dune as well.\n",
        "\n",
        "Let's see if there's a way we can use the title metadata we added to filter the results we get!"
      ],
      "metadata": {
        "id": "xBEXFmPapZpg"
      }
    },
    {
      "cell_type": "markdown",
      "metadata": {
        "id": "YUa5sHMsSV__"
      },
      "source": [
        "## Auto Retriever Functional Tool\n",
        "\n",
        "This tool will leverage OpenAI's functional endpoint to select the correct metadata filter and query the filtered index - only looking at nodes with the desired metadata.\n",
        "\n",
        "A simplified diagram: ![image](https://i.imgur.com/AICDPav.png)"
      ]
    },
    {
      "cell_type": "markdown",
      "metadata": {
        "id": "Z2HQHY3pSV__"
      },
      "source": [
        "First, we need to create our `VectoreStoreInfo` object which will hold all the relevant metadata we need for each component (in this case title metadata).\n",
        "\n",
        "Notice that you need to include it in a text list."
      ]
    },
    {
      "cell_type": "code",
      "execution_count": 22,
      "metadata": {
        "id": "KoAYxbdsSV__"
      },
      "outputs": [],
      "source": [
        "from llama_index.core.tools import FunctionTool\n",
        "from llama_index.core.vector_stores.types import (\n",
        "    VectorStoreInfo,\n",
        "    MetadataInfo,\n",
        "    ExactMatchFilter,\n",
        "    MetadataFilters,\n",
        ")\n",
        "from llama_index.core.retrievers import VectorIndexRetriever\n",
        "from llama_index.core.query_engine import RetrieverQueryEngine\n",
        "\n",
        "from typing import List, Tuple, Any\n",
        "from pydantic import BaseModel, Field\n",
        "\n",
        "top_k = 3\n",
        "\n",
        "vector_store_info = VectorStoreInfo(\n",
        "    content_info=\"information about movies\",\n",
        "    metadata_info=[MetadataInfo(\n",
        "        name=\"title\",\n",
        "        type=\"str\",\n",
        "        description='title of the movie, [\"Dune (2021 film)\", \"Harry Potter and the Philosopher\\'s Stone (film)\", \"The Lord of the Rings: The Fellowship of the Ring\"]'\n",
        "        )]\n",
        ")"
      ]
    },
    {
      "cell_type": "markdown",
      "metadata": {
        "id": "NEjK7jcsSV__"
      },
      "source": [
        "Now we'll create our base PyDantic object that we can use to ensure compatability with our application layer. This verifies that the response from the OpenAI endpoint conforms to this schema."
      ]
    },
    {
      "cell_type": "code",
      "execution_count": 23,
      "metadata": {
        "id": "yixkwF8zSV__"
      },
      "outputs": [],
      "source": [
        "class AutoRetrieveModel(BaseModel):\n",
        "    query: str = Field(..., description=\"natural language query string\")\n",
        "    filter_key_list: List[str] = Field(\n",
        "        ..., description=\"List of metadata filter field names\"\n",
        "    )\n",
        "    filter_value_list: List[str] = Field(\n",
        "        ...,\n",
        "        description=(\n",
        "            \"List of metadata filter field values (corresponding to names specified in filter_key_list)\"\n",
        "        )\n",
        "    )"
      ]
    },
    {
      "cell_type": "markdown",
      "metadata": {
        "id": "Ep6ORS3FSV__"
      },
      "source": [
        "Now we can build our function that we will use to query the functional endpoint."
      ]
    },
    {
      "cell_type": "code",
      "execution_count": 24,
      "metadata": {
        "id": "y8sPThxlSV__"
      },
      "outputs": [],
      "source": [
        "def auto_retrieve_fn(\n",
        "    query: str, filter_key_list: List[str], filter_value_list: List[str]\n",
        "):\n",
        "    \"\"\"Auto retrieval function.\n",
        "\n",
        "    Performs auto-retrieval from a vector database, and then applies a set of filters.\n",
        "\n",
        "    \"\"\"\n",
        "    query = query or \"Query\"\n",
        "\n",
        "    exact_match_filters = [\n",
        "        ExactMatchFilter(key=k, value=v)\n",
        "        for k, v in zip(filter_key_list, filter_value_list)\n",
        "    ]\n",
        "    retriever = VectorIndexRetriever(\n",
        "        index, filters=MetadataFilters(filters=exact_match_filters), top_k=top_k\n",
        "    )\n",
        "    query_engine = RetrieverQueryEngine.from_args(retriever)\n",
        "\n",
        "    response = query_engine.query(query)\n",
        "    return str(response)"
      ]
    },
    {
      "cell_type": "markdown",
      "metadata": {
        "id": "Yt4BV6oISV__"
      },
      "source": [
        "Now we need to wrap our system in a tool in order to integrate it into the larger application.\n",
        "\n",
        "Source Code Here:\n",
        "- [`FunctionTool`](https://github.com/jerryjliu/llama_index/blob/d24767b0812ac56104497d8f59095eccbe9f2b08/llama_index/tools/function_tool.py#L21)"
      ]
    },
    {
      "cell_type": "code",
      "execution_count": 25,
      "metadata": {
        "id": "U4lS1NqeSV__"
      },
      "outputs": [],
      "source": [
        "description = f\"\"\"\\\n",
        "Use this tool to look up non-review based information about films.\n",
        "The schema is given below:\n",
        "{vector_store_info.json()}\n",
        "\"\"\"\n",
        "\n",
        "auto_retrieve_tool = FunctionTool.from_defaults(\n",
        "    fn=auto_retrieve_fn,\n",
        "    name=\"semantic-film-info\",\n",
        "    description=description,\n",
        "    fn_schema=AutoRetrieveModel\n",
        ")"
      ]
    },
    {
      "cell_type": "markdown",
      "metadata": {
        "id": "ZblimmXVSV__"
      },
      "source": [
        "All that's left to do is attach the tool to an OpenAIAgent and let it rip!\n",
        "\n",
        "Source Code Here:\n",
        "- [`OpenAIAgent`](https://github.com/jerryjliu/llama_index/blob/d24767b0812ac56104497d8f59095eccbe9f2b08/llama_index/agent/openai_agent.py#L361)"
      ]
    },
    {
      "cell_type": "code",
      "execution_count": 26,
      "metadata": {
        "id": "W2hafCTxSV__"
      },
      "outputs": [],
      "source": [
        "from llama_index.agent.openai import OpenAIAgent\n",
        "\n",
        "agent = OpenAIAgent.from_tools(\n",
        "    tools=[auto_retrieve_tool],\n",
        "    verbose=True,\n",
        ")"
      ]
    },
    {
      "cell_type": "code",
      "execution_count": 27,
      "metadata": {
        "id": "DBJWDBK5SV__",
        "outputId": "8f3e4692-9c50-4ad8-9e5e-b4b85df53742",
        "colab": {
          "base_uri": "https://localhost:8080/"
        }
      },
      "outputs": [
        {
          "output_type": "stream",
          "name": "stdout",
          "text": [
            "Added user message to memory: Who starred in the 2021 film?\n",
            "=== Calling Function ===\n",
            "Calling function: semantic-film-info with args: {\"query\":\"cast of Dune (2021 film)\",\"filter_key_list\":[\"title\"],\"filter_value_list\":[\"Dune (2021 film)\"]}\n",
            "Got output: The cast of Dune (2021 film) includes Timothée Chalamet as Paul Atreides, Rebecca Ferguson as Lady Jessica, Oscar Isaac as Duke Leto Atreides, Josh Brolin as Gurney Halleck, Stellan Skarsgård as Baron Vladimir Harkonnen, Dave Bautista as Glossu Rabban, Sharon Duncan-Brewster as Dr. Liet Kynes, Stephen McKinley Henderson as Thufir Hawat, Zendaya as Chani, Chang Chen as Dr. Wellington Yueh, Charlotte Rampling as Reverend Mother Mohiam, Jason Momoa as Duncan Idaho, Javier Bardem as Stilgar, David Dastmalchian as Piter De Vries, Babs Olusanmokun as Jamis, Golda Rosheuvel as Shadout Mapes, and Roger Yuan as Lieutenant Lanville.\n",
            "========================\n",
            "\n"
          ]
        },
        {
          "output_type": "stream",
          "name": "stderr",
          "text": [
            "\u001b[34m\u001b[1mwandb\u001b[0m: Logged trace tree to W&B.\n"
          ]
        },
        {
          "output_type": "stream",
          "name": "stdout",
          "text": [
            "The cast of the 2021 film \"Dune\" includes Timothée Chalamet, Rebecca Ferguson, Oscar Isaac, Josh Brolin, Stellan Skarsgård, Dave Bautista, Sharon Duncan-Brewster, Stephen McKinley Henderson, Zendaya, Chang Chen, Charlotte Rampling, Jason Momoa, Javier Bardem, David Dastmalchian, Babs Olusanmokun, Golda Rosheuvel, and Roger Yuan.\n"
          ]
        }
      ],
      "source": [
        "response = agent.chat(\"Who starred in the 2021 film?\")\n",
        "print(str(response))"
      ]
    },
    {
      "cell_type": "code",
      "source": [
        "response = agent.chat(\"Who are those giant guys from Lord of the Rings that roam around the forest?\")\n",
        "print(str(response))"
      ],
      "metadata": {
        "colab": {
          "base_uri": "https://localhost:8080/"
        },
        "id": "UZzs2PyDuJGX",
        "outputId": "97d612d0-80b2-42c9-e659-b6afb5704e34"
      },
      "execution_count": 28,
      "outputs": [
        {
          "output_type": "stream",
          "name": "stdout",
          "text": [
            "Added user message to memory: Who are those giant guys from Lord of the Rings that roam around the forest?\n",
            "=== Calling Function ===\n",
            "Calling function: semantic-film-info with args: {\"query\":\"characters from The Lord of the Rings: The Fellowship of the Ring\",\"filter_key_list\":[\"title\"],\"filter_value_list\":[\"The Lord of the Rings: The Fellowship of the Ring\"]}\n",
            "Got output: Some characters from \"The Lord of the Rings: The Fellowship of the Ring\" include Frodo, Sam, Merry, Pippin, Gandalf, Aragorn (Strider), Arwen, Boromir, Legolas, Gimli, Saruman, Galadriel, Elrond, Bilbo, Gollum, Sauron, Celeborn, Lurtz, Haldir, Ereinion Gil-galad, Elendil, and Isildur.\n",
            "========================\n",
            "\n"
          ]
        },
        {
          "output_type": "stream",
          "name": "stderr",
          "text": [
            "\u001b[34m\u001b[1mwandb\u001b[0m: Logged trace tree to W&B.\n"
          ]
        },
        {
          "output_type": "stream",
          "name": "stdout",
          "text": [
            "The giant guys from \"The Lord of the Rings: The Fellowship of the Ring\" that roam around the forest are likely the Ents. Ents are tree-like creatures in J.R.R. Tolkien's Middle-earth, known for their immense size and connection to the forests.\n"
          ]
        }
      ]
    },
    {
      "cell_type": "markdown",
      "metadata": {
        "id": "yJcJL7VXSV__"
      },
      "source": [
        "## Quantitative RAG Pipeline with NL2SQL Tooling\n",
        "\n",
        "We'll walk through the steps of creating a natural language to SQL system in the following section.\n",
        "\n",
        "> NOTICE: This does not have parsing on the inputs or intermediary calls to ensure that users are using safe SQL queries. Use this with caution in a production environment without adding specific guardrails from either side of the application."
      ]
    },
    {
      "cell_type": "markdown",
      "metadata": {
        "id": "SsVcM0-4SV__"
      },
      "source": [
        "The next few steps should be largely straightforward, we'll want to:\n",
        "\n",
        "1. Read in our `.csv` files into `pd.DataFrame` objects\n",
        "2. Create an in-memory `sqlite` powered `sqlalchemy` engine\n",
        "3. Cast our `pd.DataFrame` objects to the SQL engine\n",
        "4. Create an `SQLDatabase` object through LlamaIndex\n",
        "5. Use that to create a `QueryEngineTool` that we can interact with through the `NLSQLTableQueryEngine`!\n",
        "\n",
        "If you get stuck, please consult the documentation."
      ]
    },
    {
      "cell_type": "code",
      "source": [
        "!wget https://raw.githubusercontent.com/AI-Maker-Space/DataRepository/main/dune1.csv"
      ],
      "metadata": {
        "id": "WwWOygTqlNBh",
        "colab": {
          "base_uri": "https://localhost:8080/"
        },
        "outputId": "d2a48a3f-0d24-4699-db4a-d991f9b1ce9f"
      },
      "execution_count": 29,
      "outputs": [
        {
          "output_type": "stream",
          "name": "stdout",
          "text": [
            "--2024-04-17 17:30:25--  https://raw.githubusercontent.com/AI-Maker-Space/DataRepository/main/dune1.csv\n",
            "Resolving raw.githubusercontent.com (raw.githubusercontent.com)... 185.199.108.133, 185.199.109.133, 185.199.110.133, ...\n",
            "Connecting to raw.githubusercontent.com (raw.githubusercontent.com)|185.199.108.133|:443... connected.\n",
            "HTTP request sent, awaiting response... 200 OK\n",
            "Length: 133391 (130K) [text/plain]\n",
            "Saving to: ‘dune1.csv’\n",
            "\n",
            "dune1.csv           100%[===================>] 130.26K  --.-KB/s    in 0.08s   \n",
            "\n",
            "2024-04-17 17:30:26 (1.68 MB/s) - ‘dune1.csv’ saved [133391/133391]\n",
            "\n"
          ]
        }
      ]
    },
    {
      "cell_type": "code",
      "source": [
        "!wget https://raw.githubusercontent.com/AI-Maker-Space/DataRepository/main/hp_ss.csv"
      ],
      "metadata": {
        "colab": {
          "base_uri": "https://localhost:8080/"
        },
        "id": "-gd_nO_T1eaS",
        "outputId": "9b7c73d9-10a6-43fa-be70-f07f8004a2d9"
      },
      "execution_count": 30,
      "outputs": [
        {
          "output_type": "stream",
          "name": "stdout",
          "text": [
            "--2024-04-17 17:30:29--  https://raw.githubusercontent.com/AI-Maker-Space/DataRepository/main/hp_ss.csv\n",
            "Resolving raw.githubusercontent.com (raw.githubusercontent.com)... 185.199.108.133, 185.199.109.133, 185.199.110.133, ...\n",
            "Connecting to raw.githubusercontent.com (raw.githubusercontent.com)|185.199.108.133|:443... connected.\n",
            "HTTP request sent, awaiting response... 200 OK\n",
            "Length: 80384 (78K) [text/plain]\n",
            "Saving to: ‘hp_ss.csv’\n",
            "\n",
            "hp_ss.csv           100%[===================>]  78.50K  --.-KB/s    in 0.04s   \n",
            "\n",
            "2024-04-17 17:30:30 (1.80 MB/s) - ‘hp_ss.csv’ saved [80384/80384]\n",
            "\n"
          ]
        }
      ]
    },
    {
      "cell_type": "code",
      "source": [
        "!wget https://raw.githubusercontent.com/AI-Maker-Space/DataRepository/main/lotr_fotr.csv"
      ],
      "metadata": {
        "colab": {
          "base_uri": "https://localhost:8080/"
        },
        "id": "QWFWvEdY1inS",
        "outputId": "5800821f-0e34-49ab-c822-af8eb83ddf26"
      },
      "execution_count": 31,
      "outputs": [
        {
          "output_type": "stream",
          "name": "stdout",
          "text": [
            "--2024-04-17 17:30:31--  https://raw.githubusercontent.com/AI-Maker-Space/DataRepository/main/lotr_fotr.csv\n",
            "Resolving raw.githubusercontent.com (raw.githubusercontent.com)... 185.199.108.133, 185.199.110.133, 185.199.109.133, ...\n",
            "Connecting to raw.githubusercontent.com (raw.githubusercontent.com)|185.199.108.133|:443... connected.\n",
            "HTTP request sent, awaiting response... 200 OK\n",
            "Length: 172855 (169K) [text/plain]\n",
            "Saving to: ‘lotr_fotr.csv’\n",
            "\n",
            "lotr_fotr.csv       100%[===================>] 168.80K  --.-KB/s    in 0.09s   \n",
            "\n",
            "2024-04-17 17:30:32 (1.88 MB/s) - ‘lotr_fotr.csv’ saved [172855/172855]\n",
            "\n"
          ]
        }
      ]
    },
    {
      "cell_type": "markdown",
      "metadata": {
        "id": "8PUg-ZuTSWAC"
      },
      "source": [
        "#### Read `.csv` Into Pandas"
      ]
    },
    {
      "cell_type": "code",
      "execution_count": 32,
      "metadata": {
        "id": "52Hd8PM4SWAC"
      },
      "outputs": [],
      "source": [
        "import pandas as pd\n",
        "\n",
        "dune1 = pd.read_csv(\"./dune1.csv\")\n",
        "hp_ss = pd.read_csv(\"./hp_ss.csv\")\n",
        "lotr_fotr = pd.read_csv(\"./lotr_fotr.csv\")"
      ]
    },
    {
      "cell_type": "markdown",
      "metadata": {
        "id": "fPTNyqmpSWAC"
      },
      "source": [
        "#### Create SQLAlchemy engine with SQLite"
      ]
    },
    {
      "cell_type": "code",
      "execution_count": 33,
      "metadata": {
        "id": "4lfuPKYBSWAC"
      },
      "outputs": [],
      "source": [
        "from sqlalchemy import create_engine\n",
        "\n",
        "engine = create_engine(\"sqlite+pysqlite:///:memory:\")"
      ]
    },
    {
      "cell_type": "markdown",
      "metadata": {
        "id": "iJiYiSuHSWAC"
      },
      "source": [
        "#### Convert `pd.DataFrame` to SQL tables"
      ]
    },
    {
      "cell_type": "code",
      "execution_count": 34,
      "metadata": {
        "id": "W-96asUHSWAC",
        "outputId": "fafa2ab0-2d50-49dd-8e61-0b7b132de7ae",
        "colab": {
          "base_uri": "https://localhost:8080/"
        }
      },
      "outputs": [
        {
          "output_type": "execute_result",
          "data": {
            "text/plain": [
              "274"
            ]
          },
          "metadata": {},
          "execution_count": 34
        }
      ],
      "source": [
        "dune1.to_sql(\n",
        "  \"Dune\",\n",
        "  engine\n",
        ")"
      ]
    },
    {
      "cell_type": "code",
      "source": [
        "hp_ss.to_sql(\n",
        "  \"Harry Potter\",\n",
        "  engine\n",
        ")"
      ],
      "metadata": {
        "colab": {
          "base_uri": "https://localhost:8080/"
        },
        "id": "B1mHOWRd4NjK",
        "outputId": "e56f71be-15fe-482a-92ec-4f7ab775242d"
      },
      "execution_count": 35,
      "outputs": [
        {
          "output_type": "execute_result",
          "data": {
            "text/plain": [
              "125"
            ]
          },
          "metadata": {},
          "execution_count": 35
        }
      ]
    },
    {
      "cell_type": "code",
      "source": [
        "lotr_fotr.to_sql(\n",
        "  \"The Lord of the Rings\",\n",
        "  engine\n",
        ")"
      ],
      "metadata": {
        "colab": {
          "base_uri": "https://localhost:8080/"
        },
        "id": "3R6FTIki4Q51",
        "outputId": "8b377954-c6d5-4dc0-f681-b34693b424c0"
      },
      "execution_count": 36,
      "outputs": [
        {
          "output_type": "execute_result",
          "data": {
            "text/plain": [
              "250"
            ]
          },
          "metadata": {},
          "execution_count": 36
        }
      ]
    },
    {
      "cell_type": "markdown",
      "metadata": {
        "id": "pibA9qT7SWAC"
      },
      "source": [
        "#### Construct a `SQLDatabase` index\n",
        "\n",
        "Source Code Here:\n",
        "- [`SQLDatabase`](https://github.com/jerryjliu/llama_index/blob/d24767b0812ac56104497d8f59095eccbe9f2b08/llama_index/langchain_helpers/sql_wrapper.py#L9)"
      ]
    },
    {
      "cell_type": "code",
      "execution_count": 37,
      "metadata": {
        "id": "yeDYpR1LSWAD"
      },
      "outputs": [],
      "source": [
        "from llama_index.core import SQLDatabase\n",
        "\n",
        "short_movie_list=[\n",
        "    \"Dune\",\n",
        "    \"Harry Potter\",\n",
        "    \"The Lord of the Rings\"\n",
        "]\n",
        "\n",
        "sql_database = SQLDatabase(\n",
        "    engine=engine,\n",
        "    include_tables=short_movie_list\n",
        ")"
      ]
    },
    {
      "cell_type": "markdown",
      "metadata": {
        "id": "-7VfZBenSWAD"
      },
      "source": [
        "#### Create the NLSQLTableQueryEngine interface for all added SQL tables\n",
        "\n",
        "Source Code Here:\n",
        "- [`NLSQLTableQueryEngine`](https://github.com/jerryjliu/llama_index/blob/d24767b0812ac56104497d8f59095eccbe9f2b08/llama_index/indices/struct_store/sql_query.py#L75C1-L75C1)"
      ]
    },
    {
      "cell_type": "code",
      "execution_count": 38,
      "metadata": {
        "id": "zQWSdMtrSWAD"
      },
      "outputs": [],
      "source": [
        "from llama_index.core.indices.struct_store.sql_query import NLSQLTableQueryEngine\n",
        "\n",
        "sql_query_engine = NLSQLTableQueryEngine(\n",
        "    sql_database=sql_database,\n",
        "    tables=short_movie_list,\n",
        ")"
      ]
    },
    {
      "cell_type": "markdown",
      "metadata": {
        "id": "yu8WfwuTSWAD"
      },
      "source": [
        "#### Wrap It All Up in a `QueryEngineTool`\n",
        "\n",
        "You'll want to ensure you have a descriptive...description!\n",
        "\n",
        "This is what will help the LLM decide which table to use when querying!\n",
        "\n",
        "Sorce Code Here:\n",
        "\n",
        "- [`QueryEngineTool`](https://github.com/jerryjliu/llama_index/blob/d24767b0812ac56104497d8f59095eccbe9f2b08/llama_index/tools/query_engine.py#L13)"
      ]
    },
    {
      "cell_type": "code",
      "source": [
        "DESCRIPTION = \"\"\"This tool should be used to convert natural language to SQL queries that query tables that contain review information about:\n",
        "'Dune'\n",
        "'Harry Potter)'\n",
        "'The Lord of the Rings'\n",
        "\"\"\""
      ],
      "metadata": {
        "id": "4n567cXVVCtX"
      },
      "execution_count": 39,
      "outputs": []
    },
    {
      "cell_type": "code",
      "execution_count": 40,
      "metadata": {
        "id": "y-mmcBbLSWAD"
      },
      "outputs": [],
      "source": [
        "from llama_index.core.tools.query_engine import QueryEngineTool\n",
        "\n",
        "sql_tool = QueryEngineTool.from_defaults(\n",
        "    query_engine=sql_query_engine,\n",
        "    name=\"sql-query\",\n",
        "    description=DESCRIPTION,\n",
        ")"
      ]
    },
    {
      "cell_type": "code",
      "execution_count": 41,
      "metadata": {
        "id": "feOrlq4XSWAD"
      },
      "outputs": [],
      "source": [
        "agent = OpenAIAgent.from_tools(\n",
        "    tools=[sql_tool],\n",
        "    verbose=True\n",
        ")"
      ]
    },
    {
      "cell_type": "code",
      "execution_count": 42,
      "metadata": {
        "id": "iT4G6stBSWAD",
        "outputId": "fa8d2a33-7ef5-4c30-f0c2-031ccde4de3e",
        "colab": {
          "base_uri": "https://localhost:8080/"
        }
      },
      "outputs": [
        {
          "output_type": "stream",
          "name": "stdout",
          "text": [
            "Added user message to memory: What is the average rating of the Harry Potter movie?\n",
            "=== Calling Function ===\n",
            "Calling function: sql-query with args: {\"input\":\"average rating of the Harry Potter movie\"}\n",
            "Got output: The average rating of the Harry Potter movie is approximately 7.66 out of 10.\n",
            "========================\n",
            "\n"
          ]
        },
        {
          "output_type": "stream",
          "name": "stderr",
          "text": [
            "\u001b[34m\u001b[1mwandb\u001b[0m: Logged trace tree to W&B.\n"
          ]
        }
      ],
      "source": [
        "response = agent.chat(\"What is the average rating of the Harry Potter movie?\")"
      ]
    },
    {
      "cell_type": "code",
      "execution_count": 43,
      "metadata": {
        "id": "NhsoxOpkSWAD",
        "outputId": "318c3972-c7fb-400d-c5a6-93976f5f4ba8",
        "colab": {
          "base_uri": "https://localhost:8080/"
        }
      },
      "outputs": [
        {
          "output_type": "stream",
          "name": "stdout",
          "text": [
            "The average rating of the Harry Potter movie is approximately 7.66 out of 10.\n"
          ]
        }
      ],
      "source": [
        "print(str(response))"
      ]
    },
    {
      "cell_type": "code",
      "source": [
        "response = agent.chat(\"What movie series has better reviews, Lord of the Rings or Dune?\")"
      ],
      "metadata": {
        "colab": {
          "base_uri": "https://localhost:8080/"
        },
        "id": "7FiAS6sF7DoJ",
        "outputId": "60968c24-1bf9-4021-a6f5-399f28383141"
      },
      "execution_count": 44,
      "outputs": [
        {
          "output_type": "stream",
          "name": "stdout",
          "text": [
            "Added user message to memory: What movie series has better reviews, Lord of the Rings or Dune?\n",
            "=== Calling Function ===\n",
            "Calling function: sql-query with args: {\"input\": \"average rating of The Lord of the Rings\"}\n",
            "Got output: The average rating of The Lord of the Rings is approximately 9.87 out of 10. This indicates that the movie is highly regarded by viewers.\n",
            "========================\n",
            "\n",
            "=== Calling Function ===\n",
            "Calling function: sql-query with args: {\"input\": \"average rating of Dune\"}\n",
            "Got output: The average rating of Dune is approximately 8.34.\n",
            "========================\n",
            "\n"
          ]
        },
        {
          "output_type": "stream",
          "name": "stderr",
          "text": [
            "\u001b[34m\u001b[1mwandb\u001b[0m: Logged trace tree to W&B.\n"
          ]
        }
      ]
    },
    {
      "cell_type": "code",
      "source": [
        "print(str(response))"
      ],
      "metadata": {
        "colab": {
          "base_uri": "https://localhost:8080/"
        },
        "id": "qxDA2Gjm7dDZ",
        "outputId": "473071fa-9a21-4373-8fad-c7816952bc87"
      },
      "execution_count": 45,
      "outputs": [
        {
          "output_type": "stream",
          "name": "stdout",
          "text": [
            "The average rating of The Lord of the Rings is approximately 9.87 out of 10, indicating that the movie series has better reviews compared to Dune, which has an average rating of approximately 8.34.\n"
          ]
        }
      ]
    },
    {
      "cell_type": "markdown",
      "metadata": {
        "id": "-2LOixbcSWAD"
      },
      "source": [
        "### Multi-Tool Agent Using Query Planning Tool\n",
        "\n",
        "We're going to be leveraging the Query Planning Tool today to help our agent \"come up with a plan\" that it can execute to best answer our questions.\n",
        "\n",
        "Let's start by defining the `QueryPlanTool`!"
      ]
    },
    {
      "cell_type": "code",
      "source": [
        "from llama_index.core.tools import QueryPlanTool\n",
        "from llama_index.core import get_response_synthesizer\n",
        "\n",
        "response_synthesizer = get_response_synthesizer()\n",
        "query_plan_tool = QueryPlanTool.from_defaults(\n",
        "    query_engine_tools=[auto_retrieve_tool, sql_tool],\n",
        "    response_synthesizer=response_synthesizer,\n",
        ")"
      ],
      "metadata": {
        "id": "R334HFTtCc03"
      },
      "execution_count": 46,
      "outputs": []
    },
    {
      "cell_type": "markdown",
      "source": [
        "Let's check out how this tool looks!"
      ],
      "metadata": {
        "id": "BOECOkhBCjk9"
      }
    },
    {
      "cell_type": "code",
      "source": [
        "query_plan_tool.metadata.to_openai_tool()"
      ],
      "metadata": {
        "colab": {
          "base_uri": "https://localhost:8080/"
        },
        "id": "cNHhftioCjFx",
        "outputId": "a69ff241-5cbe-4a36-f0b9-6295c50f0384"
      },
      "execution_count": 47,
      "outputs": [
        {
          "output_type": "execute_result",
          "data": {
            "text/plain": [
              "{'type': 'function',\n",
              " 'function': {'name': 'query_plan_tool',\n",
              "  'description': '        This is a query plan tool that takes in a list of tools and executes a query plan over these tools to answer a query. The query plan is a DAG of query nodes.\\n\\nGiven a list of tool names and the query plan schema, you can choose to generate a query plan to answer a question.\\n\\nThe tool names and descriptions are as follows:\\n\\n\\n\\n        Tool Name: semantic-film-info\\nTool Description: Use this tool to look up non-review based information about films.\\nThe schema is given below:\\n{\"metadata_info\": [{\"name\": \"title\", \"type\": \"str\", \"description\": \"title of the movie, [\\\\\"Dune (2021 film)\\\\\", \\\\\"Harry Potter and the Philosopher\\'s Stone (film)\\\\\", \\\\\"The Lord of the Rings: The Fellowship of the Ring\\\\\"]\"}], \"content_info\": \"information about movies\"}\\n \\n\\nTool Name: sql-query\\nTool Description: This tool should be used to convert natural language to SQL queries that query tables that contain review information about:\\n\\'Dune\\'\\n\\'Harry Potter)\\'\\n\\'The Lord of the Rings\\'\\n \\n        ',\n",
              "  'parameters': {'type': 'object',\n",
              "   'properties': {'nodes': {'title': 'Nodes',\n",
              "     'description': 'The original question we are asking.',\n",
              "     'type': 'array',\n",
              "     'items': {'$ref': '#/definitions/QueryNode'}}},\n",
              "   'required': ['nodes'],\n",
              "   'definitions': {'QueryNode': {'title': 'QueryNode',\n",
              "     'description': 'Query node.\\n\\nA query node represents a query (query_str) that must be answered.\\nIt can either be answered by a tool (tool_name), or by a list of child nodes\\n(child_nodes).\\nThe tool_name and child_nodes fields are mutually exclusive.',\n",
              "     'type': 'object',\n",
              "     'properties': {'id': {'title': 'Id',\n",
              "       'description': 'ID of the query node.',\n",
              "       'type': 'integer'},\n",
              "      'query_str': {'title': 'Query Str',\n",
              "       'description': 'Question we are asking. This is the query string that will be executed. ',\n",
              "       'type': 'string'},\n",
              "      'tool_name': {'title': 'Tool Name',\n",
              "       'description': 'Name of the tool to execute the `query_str`.',\n",
              "       'type': 'string'},\n",
              "      'dependencies': {'title': 'Dependencies',\n",
              "       'description': 'List of sub-questions that need to be answered in order to answer the question given by `query_str`.Should be blank if there are no sub-questions to be specified, in which case `tool_name` is specified.',\n",
              "       'type': 'array',\n",
              "       'items': {'type': 'integer'}}},\n",
              "     'required': ['id', 'query_str']}}}}}"
            ]
          },
          "metadata": {},
          "execution_count": 47
        }
      ]
    },
    {
      "cell_type": "code",
      "execution_count": 48,
      "metadata": {
        "id": "uxFHM2l2SWAD"
      },
      "outputs": [],
      "source": [
        "combined_tool_agent = OpenAIAgent.from_tools(\n",
        "    tools=[auto_retrieve_tool, sql_tool],\n",
        "    verbose=True\n",
        ")"
      ]
    },
    {
      "cell_type": "code",
      "execution_count": 49,
      "metadata": {
        "id": "mYVHuBf9SWAD",
        "outputId": "1772b0a7-3b94-4523-c4c9-3c1635153af4",
        "colab": {
          "base_uri": "https://localhost:8080/"
        }
      },
      "outputs": [
        {
          "output_type": "stream",
          "name": "stdout",
          "text": [
            "Added user message to memory: Which movie is about a chamber, and what is the average rating of the movie?\n",
            "=== Calling Function ===\n",
            "Calling function: semantic-film-info with args: {\"query\":\"movie about a chamber\",\"filter_key_list\":[\"title\"],\"filter_value_list\":[\"Chamber\"]}\n",
            "Got output: Empty Response\n",
            "========================\n",
            "\n"
          ]
        },
        {
          "output_type": "stream",
          "name": "stderr",
          "text": [
            "\u001b[34m\u001b[1mwandb\u001b[0m: Logged trace tree to W&B.\n"
          ]
        }
      ],
      "source": [
        "response = combined_tool_agent.chat(\"Which movie is about a chamber, and what is the average rating of the movie?\")"
      ]
    },
    {
      "cell_type": "code",
      "execution_count": null,
      "metadata": {
        "id": "k0w0VbomSWAD"
      },
      "outputs": [],
      "source": [
        "print(str(response))"
      ]
    },
    {
      "cell_type": "code",
      "execution_count": 51,
      "metadata": {
        "id": "BJvN-vtJSWAD",
        "outputId": "3a0074db-b9b5-4451-dd05-6b8d7adf04da",
        "colab": {
          "base_uri": "https://localhost:8080/"
        }
      },
      "outputs": [
        {
          "output_type": "stream",
          "name": "stdout",
          "text": [
            "Added user message to memory: What worlds do the LoTR, and Dune movies take place in?\n",
            "=== Calling Function ===\n",
            "Calling function: semantic-film-info with args: {\"query\": \"The Lord of the Rings\", \"filter_key_list\": [\"title\"], \"filter_value_list\": [\"The Lord of the Rings\"]}\n",
            "Got output: Empty Response\n",
            "========================\n",
            "\n",
            "=== Calling Function ===\n",
            "Calling function: semantic-film-info with args: {\"query\": \"Dune\", \"filter_key_list\": [\"title\"], \"filter_value_list\": [\"Dune\"]}\n",
            "Got output: Empty Response\n",
            "========================\n",
            "\n"
          ]
        },
        {
          "output_type": "stream",
          "name": "stderr",
          "text": [
            "\u001b[34m\u001b[1mwandb\u001b[0m: Logged trace tree to W&B.\n"
          ]
        }
      ],
      "source": [
        "response = combined_tool_agent.chat(\"What worlds do the LoTR, and Dune movies take place in?\")"
      ]
    },
    {
      "cell_type": "code",
      "execution_count": 52,
      "metadata": {
        "id": "F74wGv6NSWAD",
        "outputId": "80fddd3f-80b5-478b-cca3-5a4128b77063",
        "colab": {
          "base_uri": "https://localhost:8080/"
        }
      },
      "outputs": [
        {
          "output_type": "stream",
          "name": "stdout",
          "text": [
            "I couldn't retrieve the specific information about the worlds where \"The Lord of the Rings\" and \"Dune\" movies take place. Would you like me to try searching for this information again?\n"
          ]
        }
      ],
      "source": [
        "print(str(response))"
      ]
    },
    {
      "cell_type": "code",
      "source": [
        "response = combined_tool_agent.chat(\"Which of the following movie series is considered the 'best': Harry Potter, Dune, Lord of the Rings, or The Hobbit? Based your answer on both reviews, and non-review information.\")"
      ],
      "metadata": {
        "colab": {
          "base_uri": "https://localhost:8080/"
        },
        "id": "Lvat4hmkvn3N",
        "outputId": "aaa5ed5d-eb7c-40f8-b803-0020b476bc5f"
      },
      "execution_count": 53,
      "outputs": [
        {
          "output_type": "stream",
          "name": "stdout",
          "text": [
            "Added user message to memory: Which of the following movie series is considered the 'best': Harry Potter, Dune, Lord of the Rings, or The Hobbit? Based your answer on both reviews, and non-review information.\n",
            "=== Calling Function ===\n",
            "Calling function: semantic-film-info with args: {\"query\": \"Harry Potter\", \"filter_key_list\": [\"title\"], \"filter_value_list\": [\"Harry Potter\"]}\n",
            "Got output: Empty Response\n",
            "========================\n",
            "\n",
            "=== Calling Function ===\n",
            "Calling function: semantic-film-info with args: {\"query\": \"Dune\", \"filter_key_list\": [\"title\"], \"filter_value_list\": [\"Dune\"]}\n",
            "Got output: Empty Response\n",
            "========================\n",
            "\n",
            "=== Calling Function ===\n",
            "Calling function: semantic-film-info with args: {\"query\": \"The Lord of the Rings\", \"filter_key_list\": [\"title\"], \"filter_value_list\": [\"The Lord of the Rings\"]}\n",
            "Got output: Empty Response\n",
            "========================\n",
            "\n",
            "=== Calling Function ===\n",
            "Calling function: semantic-film-info with args: {\"query\": \"The Hobbit\", \"filter_key_list\": [\"title\"], \"filter_value_list\": [\"The Hobbit\"]}\n",
            "Got output: Empty Response\n",
            "========================\n",
            "\n"
          ]
        },
        {
          "output_type": "stream",
          "name": "stderr",
          "text": [
            "\u001b[34m\u001b[1mwandb\u001b[0m: Logged trace tree to W&B.\n"
          ]
        }
      ]
    },
    {
      "cell_type": "code",
      "source": [
        "print(str(response))"
      ],
      "metadata": {
        "colab": {
          "base_uri": "https://localhost:8080/"
        },
        "id": "BEOpeuAovtZM",
        "outputId": "8bde7630-274e-40d0-ebb2-e86d225c5d23"
      },
      "execution_count": 55,
      "outputs": [
        {
          "output_type": "stream",
          "name": "stdout",
          "text": [
            "I couldn't retrieve information about the reviews and non-review details for the movie series \"Harry Potter,\" \"Dune,\" \"The Lord of the Rings,\" and \"The Hobbit.\" Would you like me to try searching for this information again or provide information based on other criteria?\n"
          ]
        }
      ]
    },
    {
      "cell_type": "code",
      "execution_count": 56,
      "metadata": {
        "id": "D3ELqzOvSWAD"
      },
      "outputs": [],
      "source": [
        "wandb_callback.finish()"
      ]
    }
  ],
  "metadata": {
    "kernelspec": {
      "display_name": "Python 3",
      "name": "python3"
    },
    "language_info": {
      "codemirror_mode": {
        "name": "ipython",
        "version": 3
      },
      "file_extension": ".py",
      "mimetype": "text/x-python",
      "name": "python",
      "nbconvert_exporter": "python",
      "pygments_lexer": "ipython3",
      "version": "3.9.18"
    },
    "orig_nbformat": 4,
    "colab": {
      "provenance": [],
      "gpuType": "T4"
    },
    "accelerator": "GPU"
  },
  "nbformat": 4,
  "nbformat_minor": 0
}