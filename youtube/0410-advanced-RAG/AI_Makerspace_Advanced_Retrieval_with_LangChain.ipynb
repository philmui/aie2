{
  "nbformat": 4,
  "nbformat_minor": 0,
  "metadata": {
    "colab": {
      "provenance": [],
      "gpuType": "T4"
    },
    "kernelspec": {
      "name": "python3",
      "display_name": "Python 3"
    },
    "language_info": {
      "name": "python"
    },
    "accelerator": "GPU"
  },
  "cells": [
    {
      "cell_type": "markdown",
      "source": [
        "# Advanced Retrieval with LangChain\n",
        "\n",
        "In the following notebook, we'll explore various methods of advanced retrieval using LangChain!\n",
        "\n",
        "We'll touch on:\n",
        "\n",
        "- Naive Retrieval\n",
        "- Parent Document Retrieval\n",
        "- Self-Query Retrieval\n",
        "- Time-weighted Retrieval\n",
        "- Contextual Compression Retrieval\n",
        "\n",
        "We'll also discuss how these methods impact performance on our set of documents with a simple RAG chain.\n",
        "\n",
        "> NOTE: We'll provide a separate notebook for the evaluation of these methods which will be available in the YouTube comments"
      ],
      "metadata": {
        "id": "e-IqJAMkwnCF"
      }
    },
    {
      "cell_type": "markdown",
      "source": [
        "## Step 1:\n",
        "\n",
        "Installing required libraries!\n",
        "\n",
        "We're going to need a few specific LangChain community packages, like OpenAI (for our [LLM](https://platform.openai.com/docs/models) and [Embedding Model](https://platform.openai.com/docs/guides/embeddings)) and Cohere (for our [Reranker](https://cohere.com/rerank))."
      ],
      "metadata": {
        "id": "3xes8oT-xHN7"
      }
    },
    {
      "cell_type": "code",
      "execution_count": 1,
      "metadata": {
        "id": "MkgFAXWVW3wm",
        "colab": {
          "base_uri": "https://localhost:8080/"
        },
        "outputId": "094daaeb-f73a-48f5-f52f-eae8a00fb016"
      },
      "outputs": [
        {
          "output_type": "stream",
          "name": "stdout",
          "text": [
            "\u001b[2K     \u001b[90m━━━━━━━━━━━━━━━━━━━━━━━━━━━━━━━━━━━━━━━━\u001b[0m \u001b[32m814.5/814.5 kB\u001b[0m \u001b[31m6.8 MB/s\u001b[0m eta \u001b[36m0:00:00\u001b[0m\n",
            "\u001b[2K     \u001b[90m━━━━━━━━━━━━━━━━━━━━━━━━━━━━━━━━━━━━━━━━\u001b[0m \u001b[32m1.9/1.9 MB\u001b[0m \u001b[31m13.3 MB/s\u001b[0m eta \u001b[36m0:00:00\u001b[0m\n",
            "\u001b[2K     \u001b[90m━━━━━━━━━━━━━━━━━━━━━━━━━━━━━━━━━━━━━━━━\u001b[0m \u001b[32m278.4/278.4 kB\u001b[0m \u001b[31m11.0 MB/s\u001b[0m eta \u001b[36m0:00:00\u001b[0m\n",
            "\u001b[2K     \u001b[90m━━━━━━━━━━━━━━━━━━━━━━━━━━━━━━━━━━━━━━━━\u001b[0m \u001b[32m103.9/103.9 kB\u001b[0m \u001b[31m4.5 MB/s\u001b[0m eta \u001b[36m0:00:00\u001b[0m\n",
            "\u001b[2K     \u001b[90m━━━━━━━━━━━━━━━━━━━━━━━━━━━━━━━━━━━━━━━━\u001b[0m \u001b[32m268.3/268.3 kB\u001b[0m \u001b[31m11.9 MB/s\u001b[0m eta \u001b[36m0:00:00\u001b[0m\n",
            "\u001b[2K     \u001b[90m━━━━━━━━━━━━━━━━━━━━━━━━━━━━━━━━━━━━━━━━\u001b[0m \u001b[32m1.8/1.8 MB\u001b[0m \u001b[31m22.3 MB/s\u001b[0m eta \u001b[36m0:00:00\u001b[0m\n",
            "\u001b[2K     \u001b[90m━━━━━━━━━━━━━━━━━━━━━━━━━━━━━━━━━━━━━━━━\u001b[0m \u001b[32m145.3/145.3 kB\u001b[0m \u001b[31m9.5 MB/s\u001b[0m eta \u001b[36m0:00:00\u001b[0m\n",
            "\u001b[2K     \u001b[90m━━━━━━━━━━━━━━━━━━━━━━━━━━━━━━━━━━━━━━━━\u001b[0m \u001b[32m3.1/3.1 MB\u001b[0m \u001b[31m33.1 MB/s\u001b[0m eta \u001b[36m0:00:00\u001b[0m\n",
            "\u001b[2K     \u001b[90m━━━━━━━━━━━━━━━━━━━━━━━━━━━━━━━━━━━━━━━━\u001b[0m \u001b[32m75.6/75.6 kB\u001b[0m \u001b[31m5.9 MB/s\u001b[0m eta \u001b[36m0:00:00\u001b[0m\n",
            "\u001b[2K     \u001b[90m━━━━━━━━━━━━━━━━━━━━━━━━━━━━━━━━━━━━━━━━\u001b[0m \u001b[32m49.4/49.4 kB\u001b[0m \u001b[31m3.9 MB/s\u001b[0m eta \u001b[36m0:00:00\u001b[0m\n",
            "\u001b[2K     \u001b[90m━━━━━━━━━━━━━━━━━━━━━━━━━━━━━━━━━━━━━━━━\u001b[0m \u001b[32m53.0/53.0 kB\u001b[0m \u001b[31m4.2 MB/s\u001b[0m eta \u001b[36m0:00:00\u001b[0m\n",
            "\u001b[2K     \u001b[90m━━━━━━━━━━━━━━━━━━━━━━━━━━━━━━━━━━━━━━━━\u001b[0m \u001b[32m144.8/144.8 kB\u001b[0m \u001b[31m4.7 MB/s\u001b[0m eta \u001b[36m0:00:00\u001b[0m\n",
            "\u001b[2K     \u001b[90m━━━━━━━━━━━━━━━━━━━━━━━━━━━━━━━━━━━━━━━━\u001b[0m \u001b[32m77.9/77.9 kB\u001b[0m \u001b[31m7.9 MB/s\u001b[0m eta \u001b[36m0:00:00\u001b[0m\n",
            "\u001b[2K     \u001b[90m━━━━━━━━━━━━━━━━━━━━━━━━━━━━━━━━━━━━━━━━\u001b[0m \u001b[32m58.3/58.3 kB\u001b[0m \u001b[31m6.3 MB/s\u001b[0m eta \u001b[36m0:00:00\u001b[0m\n",
            "\u001b[?25h"
          ]
        }
      ],
      "source": [
        "!pip install -qU langchain langchain-openai langchain-cohere"
      ]
    },
    {
      "cell_type": "markdown",
      "source": [
        "We're also going to be leveraging [Qdrant's](https://qdrant.tech/documentation/frameworks/langchain/) (pronounced \"Quadrant\") VectorDB in \"memory\" mode (so we can leverage it locally in our colab environment), and require [Lark](https://github.com/lark-parser/lark) for our Self-Query retriever."
      ],
      "metadata": {
        "id": "dKqYM4Eoxcov"
      }
    },
    {
      "cell_type": "code",
      "source": [
        "!pip install -qU qdrant-client lark"
      ],
      "metadata": {
        "id": "s6xav5CxYnML",
        "colab": {
          "base_uri": "https://localhost:8080/"
        },
        "outputId": "18e8e723-0436-4bfe-8d71-06c955ac52bb"
      },
      "execution_count": 2,
      "outputs": [
        {
          "output_type": "stream",
          "name": "stdout",
          "text": [
            "\u001b[?25l     \u001b[90m━━━━━━━━━━━━━━━━━━━━━━━━━━━━━━━━━━━━━━━━\u001b[0m \u001b[32m0.0/223.2 kB\u001b[0m \u001b[31m?\u001b[0m eta \u001b[36m-:--:--\u001b[0m\r\u001b[2K     \u001b[91m━━━━━━━━━━━━━━━━━━━━━━━━━━━━━━━\u001b[0m\u001b[90m╺\u001b[0m\u001b[90m━━━━━━━━\u001b[0m \u001b[32m174.1/223.2 kB\u001b[0m \u001b[31m4.9 MB/s\u001b[0m eta \u001b[36m0:00:01\u001b[0m\r\u001b[2K     \u001b[90m━━━━━━━━━━━━━━━━━━━━━━━━━━━━━━━━━━━━━━━━\u001b[0m \u001b[32m223.2/223.2 kB\u001b[0m \u001b[31m4.2 MB/s\u001b[0m eta \u001b[36m0:00:00\u001b[0m\n",
            "\u001b[2K     \u001b[90m━━━━━━━━━━━━━━━━━━━━━━━━━━━━━━━━━━━━━━━━\u001b[0m \u001b[32m111.7/111.7 kB\u001b[0m \u001b[31m7.5 MB/s\u001b[0m eta \u001b[36m0:00:00\u001b[0m\n",
            "\u001b[2K     \u001b[90m━━━━━━━━━━━━━━━━━━━━━━━━━━━━━━━━━━━━━━━━\u001b[0m \u001b[32m2.8/2.8 MB\u001b[0m \u001b[31m10.2 MB/s\u001b[0m eta \u001b[36m0:00:00\u001b[0m\n",
            "\u001b[2K     \u001b[90m━━━━━━━━━━━━━━━━━━━━━━━━━━━━━━━━━━━━━━━━\u001b[0m \u001b[32m294.6/294.6 kB\u001b[0m \u001b[31m15.9 MB/s\u001b[0m eta \u001b[36m0:00:00\u001b[0m\n",
            "\u001b[2K     \u001b[90m━━━━━━━━━━━━━━━━━━━━━━━━━━━━━━━━━━━━━━━━\u001b[0m \u001b[32m57.5/57.5 kB\u001b[0m \u001b[31m1.1 MB/s\u001b[0m eta \u001b[36m0:00:00\u001b[0m\n",
            "\u001b[?25h\u001b[31mERROR: pip's dependency resolver does not currently take into account all the packages that are installed. This behaviour is the source of the following dependency conflicts.\n",
            "tensorflow-metadata 1.14.0 requires protobuf<4.21,>=3.20.3, but you have protobuf 4.25.3 which is incompatible.\u001b[0m\u001b[31m\n",
            "\u001b[0m"
          ]
        }
      ]
    },
    {
      "cell_type": "markdown",
      "source": [
        "We'll also provide our OpenAI key, as well as our Cohere API key."
      ],
      "metadata": {
        "id": "Z7OHJXzfyJyA"
      }
    },
    {
      "cell_type": "code",
      "source": [
        "import os\n",
        "import getpass\n",
        "\n",
        "os.environ[\"OPENAI_API_KEY\"] = getpass.getpass(\"Enter your OpenAI API Key:\")"
      ],
      "metadata": {
        "colab": {
          "base_uri": "https://localhost:8080/"
        },
        "id": "7LttlDQUYgSI",
        "outputId": "72f03043-454c-42a9-db39-61849374f109"
      },
      "execution_count": 3,
      "outputs": [
        {
          "name": "stdout",
          "output_type": "stream",
          "text": [
            "Enter your OpenAI API Key:··········\n"
          ]
        }
      ]
    },
    {
      "cell_type": "code",
      "source": [
        "os.environ[\"COHERE_API_KEY\"] = getpass.getpass(\"Cohere API Key:\")"
      ],
      "metadata": {
        "colab": {
          "base_uri": "https://localhost:8080/"
        },
        "id": "3iUahNiJyQbv",
        "outputId": "1e2aa23f-5001-41d7-8988-5fc773639d2a"
      },
      "execution_count": 4,
      "outputs": [
        {
          "name": "stdout",
          "output_type": "stream",
          "text": [
            "Cohere API Key:··········\n"
          ]
        }
      ]
    },
    {
      "cell_type": "markdown",
      "source": [
        "## Data Collection and Preparation\n",
        "\n",
        "We'll be using some reviews from the 4 movies in the John Wick franchise today to explore the different retrieval strategies.\n",
        "\n",
        "These were obtained from IMDB, and are available in the [AIM Data Repository](https://github.com/AI-Maker-Space/DataRepository)."
      ],
      "metadata": {
        "id": "mw304iAFyRtl"
      }
    },
    {
      "cell_type": "markdown",
      "source": [
        "### Data Collection\n",
        "\n",
        "We can simply `wget` these from GitHub.\n",
        "\n",
        "You could use any review data you wanted in this step - just be careful to make sure your metadata is aligned with your choice."
      ],
      "metadata": {
        "id": "xXKHcZmKzDwT"
      }
    },
    {
      "cell_type": "code",
      "source": [
        "!wget https://raw.githubusercontent.com/AI-Maker-Space/DataRepository/main/jw1.csv -O john_wick_1.csv\n",
        "!wget https://raw.githubusercontent.com/AI-Maker-Space/DataRepository/main/jw2.csv -O john_wick_2.csv\n",
        "!wget https://raw.githubusercontent.com/AI-Maker-Space/DataRepository/main/jw3.csv -O john_wick_3.csv\n",
        "!wget https://raw.githubusercontent.com/AI-Maker-Space/DataRepository/main/jw4.csv -O john_wick_4.csv"
      ],
      "metadata": {
        "colab": {
          "base_uri": "https://localhost:8080/"
        },
        "id": "vbbSIGtzX3dS",
        "outputId": "81d6bbd2-4bd8-410a-94b5-8651aba2bddb"
      },
      "execution_count": 5,
      "outputs": [
        {
          "output_type": "stream",
          "name": "stdout",
          "text": [
            "--2024-04-10 17:33:28--  https://raw.githubusercontent.com/AI-Maker-Space/DataRepository/main/jw1.csv\n",
            "Resolving raw.githubusercontent.com (raw.githubusercontent.com)... 185.199.108.133, 185.199.109.133, 185.199.110.133, ...\n",
            "Connecting to raw.githubusercontent.com (raw.githubusercontent.com)|185.199.108.133|:443... connected.\n",
            "HTTP request sent, awaiting response... 200 OK\n",
            "Length: 19628 (19K) [text/plain]\n",
            "Saving to: ‘john_wick_1.csv’\n",
            "\n",
            "john_wick_1.csv     100%[===================>]  19.17K  --.-KB/s    in 0.001s  \n",
            "\n",
            "2024-04-10 17:33:28 (26.0 MB/s) - ‘john_wick_1.csv’ saved [19628/19628]\n",
            "\n",
            "--2024-04-10 17:33:28--  https://raw.githubusercontent.com/AI-Maker-Space/DataRepository/main/jw2.csv\n",
            "Resolving raw.githubusercontent.com (raw.githubusercontent.com)... 185.199.111.133, 185.199.110.133, 185.199.108.133, ...\n",
            "Connecting to raw.githubusercontent.com (raw.githubusercontent.com)|185.199.111.133|:443... connected.\n",
            "HTTP request sent, awaiting response... 200 OK\n",
            "Length: 14747 (14K) [text/plain]\n",
            "Saving to: ‘john_wick_2.csv’\n",
            "\n",
            "john_wick_2.csv     100%[===================>]  14.40K  --.-KB/s    in 0.001s  \n",
            "\n",
            "2024-04-10 17:33:28 (24.7 MB/s) - ‘john_wick_2.csv’ saved [14747/14747]\n",
            "\n",
            "--2024-04-10 17:33:28--  https://raw.githubusercontent.com/AI-Maker-Space/DataRepository/main/jw3.csv\n",
            "Resolving raw.githubusercontent.com (raw.githubusercontent.com)... 185.199.108.133, 185.199.109.133, 185.199.110.133, ...\n",
            "Connecting to raw.githubusercontent.com (raw.githubusercontent.com)|185.199.108.133|:443... connected.\n",
            "HTTP request sent, awaiting response... 200 OK\n",
            "Length: 13888 (14K) [text/plain]\n",
            "Saving to: ‘john_wick_3.csv’\n",
            "\n",
            "john_wick_3.csv     100%[===================>]  13.56K  --.-KB/s    in 0.001s  \n",
            "\n",
            "2024-04-10 17:33:29 (17.1 MB/s) - ‘john_wick_3.csv’ saved [13888/13888]\n",
            "\n",
            "--2024-04-10 17:33:29--  https://raw.githubusercontent.com/AI-Maker-Space/DataRepository/main/jw4.csv\n",
            "Resolving raw.githubusercontent.com (raw.githubusercontent.com)... 185.199.108.133, 185.199.109.133, 185.199.111.133, ...\n",
            "Connecting to raw.githubusercontent.com (raw.githubusercontent.com)|185.199.108.133|:443... connected.\n",
            "HTTP request sent, awaiting response... 200 OK\n",
            "Length: 15109 (15K) [text/plain]\n",
            "Saving to: ‘john_wick_4.csv’\n",
            "\n",
            "john_wick_4.csv     100%[===================>]  14.75K  --.-KB/s    in 0.001s  \n",
            "\n",
            "2024-04-10 17:33:29 (19.2 MB/s) - ‘john_wick_4.csv’ saved [15109/15109]\n",
            "\n"
          ]
        }
      ]
    },
    {
      "cell_type": "markdown",
      "source": [
        "### Data Preparation\n",
        "\n",
        "We want to make sure all our documents have the relevant metadata for the various retrieval strategies we're going to be applying today.\n",
        "\n",
        "- Self-Query: Wants as much metadata as we can provide\n",
        "- Time-weighted: Wants temporal data\n",
        "\n",
        "> NOTE: While we're creating a temporal relationship based on when these movies came out for illustrative purposes, it needs to be clear that the \"time-weighting\" in the Time-weighted Retriever is based on when the document was *accessed* last - not when it was created."
      ],
      "metadata": {
        "id": "A92NC2QZzCsi"
      }
    },
    {
      "cell_type": "code",
      "source": [
        "from langchain_community.document_loaders.csv_loader import CSVLoader\n",
        "from datetime import datetime, timedelta\n",
        "\n",
        "documents = []\n",
        "\n",
        "for i in range(1, 5):\n",
        "  loader = CSVLoader(\n",
        "      file_path=f\"john_wick_{i}.csv\",\n",
        "      metadata_columns=[\"Review_Date\", \"Review_Title\", \"Review_Url\", \"Author\", \"Rating\"]\n",
        "  )\n",
        "\n",
        "  movie_docs = loader.load()\n",
        "  for doc in movie_docs:\n",
        "\n",
        "    # Add the \"Movie Title\" (John Wick 1, 2, ...)\n",
        "    doc.metadata[\"Movie_Title\"] = f\"John Wick {i}\"\n",
        "\n",
        "    # convert \"Rating\" to an `int`, if no rating is provided - assume 0 rating\n",
        "    doc.metadata[\"Rating\"] = int(doc.metadata[\"Rating\"]) if doc.metadata[\"Rating\"] else 0\n",
        "\n",
        "    # newer movies have a more recent \"last_accessed_at\"\n",
        "    doc.metadata[\"last_accessed_at\"] = datetime.now() - timedelta(days=4-i)\n",
        "\n",
        "  documents.extend(movie_docs)"
      ],
      "metadata": {
        "id": "GshBjVRJZ6p8"
      },
      "execution_count": 6,
      "outputs": []
    },
    {
      "cell_type": "markdown",
      "source": [
        "Let's look at an example document to see if everything worked as expected!"
      ],
      "metadata": {
        "id": "9gQphb6y0C0S"
      }
    },
    {
      "cell_type": "code",
      "source": [
        "documents[0]"
      ],
      "metadata": {
        "colab": {
          "base_uri": "https://localhost:8080/"
        },
        "id": "PkUkCf7DaMiq",
        "outputId": "bcc05cb7-4194-4fa5-827a-097287efda3c"
      },
      "execution_count": 7,
      "outputs": [
        {
          "output_type": "execute_result",
          "data": {
            "text/plain": [
              "Document(page_content=\": 0\\nReview: The best way I can describe John Wick is to picture Taken but instead of Liam Neeson it's Keanu Reeves and instead of his daughter it's his dog. That's essentially the plot of the movie. John Wick (Reeves) is out to seek revenge on the people who took something he loved from him. It's a beautifully simple premise for an action movie - when action movies get convoluted, they get bad i.e. A Good Day to Die Hard. John Wick gives the viewers what they want: Awesome action, stylish stunts, kinetic chaos, and a relatable hero to tie it all together. John Wick succeeds in its simplicity.\", metadata={'source': 'john_wick_1.csv', 'row': 0, 'Review_Date': '6 May 2015', 'Review_Title': ' Kinetic, concise, and stylish; John Wick kicks ass.\\n', 'Review_Url': '/review/rw3233896/?ref_=tt_urv', 'Author': 'lnvicta', 'Rating': 8, 'Movie_Title': 'John Wick 1', 'last_accessed_at': datetime.datetime(2024, 4, 7, 17, 33, 35, 142180)})"
            ]
          },
          "metadata": {},
          "execution_count": 7
        }
      ]
    },
    {
      "cell_type": "markdown",
      "source": [
        "## QDrant VectorStore\n",
        "\n",
        "Now that we have our documents, let's create a QDrant VectorStore with the collection name \"JohnWick\".\n",
        "\n",
        "We'll leverage OpenAI's [`text-embedding-3-small`](https://openai.com/blog/new-embedding-models-and-api-updates) because it's a very powerful (and low-cost) embedding model.\n",
        "\n",
        "> NOTE: We'll be creating additional vectorstores where necessary, but this pattern is still extremely useful."
      ],
      "metadata": {
        "id": "lWaQpdHl0Gzc"
      }
    },
    {
      "cell_type": "code",
      "source": [
        "from langchain_community.vectorstores import Qdrant\n",
        "from langchain_openai import OpenAIEmbeddings\n",
        "\n",
        "embeddings = OpenAIEmbeddings(model=\"text-embedding-3-small\")\n",
        "\n",
        "vectorstore = Qdrant.from_documents(\n",
        "    documents,\n",
        "    embeddings,\n",
        "    location=\":memory:\",\n",
        "    collection_name=\"JohnWick\"\n",
        ")"
      ],
      "metadata": {
        "id": "NT8ihRJbYmMT"
      },
      "execution_count": 8,
      "outputs": []
    },
    {
      "cell_type": "markdown",
      "source": [
        "## Naive RAG Chain\n",
        "\n",
        "Since we're focusing on the \"R\" in RAG today - we'll create our Retriever first."
      ],
      "metadata": {
        "id": "-x2SS4Rh0hiN"
      }
    },
    {
      "cell_type": "markdown",
      "source": [
        "### R - Retrieval\n",
        "\n",
        "This naive rertriever will simple look at each review as a document, and use cosine-similarity to fetch the 10 most relevant documents.\n",
        "\n",
        "> NOTE: We're choosing `10` as our `k` here to provide enough documents for our reranking process later"
      ],
      "metadata": {
        "id": "NEH7X5Ai08FH"
      }
    },
    {
      "cell_type": "code",
      "source": [
        "naive_retriever = vectorstore.as_retriever(search_kwargs={\"k\" : 10})"
      ],
      "metadata": {
        "id": "GFDPrNBtb72o"
      },
      "execution_count": 9,
      "outputs": []
    },
    {
      "cell_type": "markdown",
      "source": [
        "### A - Augmented\n",
        "\n",
        "We're going to go with a standard prompt for our simple RAG chain today! Nothing fancy here, we want this to mostly be about the Retrieval process."
      ],
      "metadata": {
        "id": "MbBhyQjz06dx"
      }
    },
    {
      "cell_type": "code",
      "source": [
        "from langchain_core.prompts import ChatPromptTemplate\n",
        "\n",
        "RAG_TEMPLATE = \"\"\"\\\n",
        "You are a helpful and kind assistant. Use the context provided below to answer the question.\n",
        "\n",
        "If you do not know the answer, or are unsure, say you don't know.\n",
        "\n",
        "Query:\n",
        "{question}\n",
        "\n",
        "Context:\n",
        "{context}\n",
        "\"\"\"\n",
        "\n",
        "rag_prompt = ChatPromptTemplate.from_template(RAG_TEMPLATE)"
      ],
      "metadata": {
        "id": "7uSz-Dbqcoki"
      },
      "execution_count": 10,
      "outputs": []
    },
    {
      "cell_type": "markdown",
      "source": [
        "### G - Generation\n",
        "\n",
        "We're going to leverage `gpt-3.5-turbo` as our LLM today, as - again - we want this to largely be about the Retrieval process."
      ],
      "metadata": {
        "id": "BlRzpb231GGJ"
      }
    },
    {
      "cell_type": "code",
      "source": [
        "from langchain_openai import ChatOpenAI\n",
        "\n",
        "chat_model = ChatOpenAI()"
      ],
      "metadata": {
        "id": "c-1t9H60dJLg"
      },
      "execution_count": 11,
      "outputs": []
    },
    {
      "cell_type": "markdown",
      "source": [
        "### LCEL RAG Chain\n",
        "\n",
        "We're going to use LCEL to construct our chain.\n",
        "\n",
        "> NOTE: This chain will be exactly the same across the various examples with the exception of our Retriever!"
      ],
      "metadata": {
        "id": "mg3QRGzA1M2x"
      }
    },
    {
      "cell_type": "code",
      "source": [
        "from langchain_core.runnables import RunnablePassthrough\n",
        "from operator import itemgetter\n",
        "from langchain_core.output_parsers import StrOutputParser\n",
        "\n",
        "naive_retrieval_chain = (\n",
        "    # INVOKE CHAIN WITH: {\"question\" : \"<<SOME USER QUESTION>>\"}\n",
        "    # \"question\" : populated by getting the value of the \"question\" key\n",
        "    # \"context\"  : populated by getting the value of the \"question\" key and chaining it into the base_retriever\n",
        "    {\"context\": itemgetter(\"question\") | naive_retriever, \"question\": itemgetter(\"question\")}\n",
        "    # \"context\"  : is assigned to a RunnablePassthrough object (will not be called or considered in the next step)\n",
        "    #              by getting the value of the \"context\" key from the previous step\n",
        "    | RunnablePassthrough.assign(context=itemgetter(\"context\"))\n",
        "    # \"response\" : the \"context\" and \"question\" values are used to format our prompt object and then piped\n",
        "    #              into the LLM and stored in a key called \"response\"\n",
        "    # \"context\"  : populated by getting the value of the \"context\" key from the previous step\n",
        "    | {\"response\": rag_prompt | chat_model, \"context\": itemgetter(\"context\")}\n",
        ")"
      ],
      "metadata": {
        "id": "0bvstS7mdOW3"
      },
      "execution_count": 12,
      "outputs": []
    },
    {
      "cell_type": "markdown",
      "source": [
        "Let's see how this simple chain does on a few different prompts.\n",
        "\n",
        "> NOTE: You might think that we've cherry picked prompts that showcase the individual skill of each of the retrieval strategies - you'd be correct!"
      ],
      "metadata": {
        "id": "izKujhNb1ZG8"
      }
    },
    {
      "cell_type": "code",
      "source": [
        "naive_retrieval_chain.invoke({\"question\" : \"Did people generally like John Wick?\"})[\"response\"].content"
      ],
      "metadata": {
        "colab": {
          "base_uri": "https://localhost:8080/",
          "height": 89
        },
        "id": "LI-5ueEddku9",
        "outputId": "080afc53-fd5e-4fe8-f370-1bd8c4e4298a"
      },
      "execution_count": 13,
      "outputs": [
        {
          "output_type": "execute_result",
          "data": {
            "text/plain": [
              "\"Based on the reviews provided, it seems that people generally liked John Wick. The film was praised for its slickness, brilliant action sequences, Keanu Reeves' performance, and overall entertainment value. Some reviewers even mentioned that it was one of the best action films they had seen in a long time. So, yes, people generally liked John Wick.\""
            ],
            "application/vnd.google.colaboratory.intrinsic+json": {
              "type": "string"
            }
          },
          "metadata": {},
          "execution_count": 13
        }
      ]
    },
    {
      "cell_type": "code",
      "source": [
        "naive_retrieval_chain.invoke({\"question\" : \"Do any reviews have a rating of 10? If so - can I have the URLs to those reviews?\"})[\"response\"].content"
      ],
      "metadata": {
        "colab": {
          "base_uri": "https://localhost:8080/",
          "height": 53
        },
        "id": "43zdcdUydtXh",
        "outputId": "beaae603-7a29-40c5-dab3-e94de14ba68f"
      },
      "execution_count": 14,
      "outputs": [
        {
          "output_type": "execute_result",
          "data": {
            "text/plain": [
              "'Yes, there is a review with a rating of 10. Here is the URL to that review: /review/rw4854296/?ref_=tt_urv.'"
            ],
            "application/vnd.google.colaboratory.intrinsic+json": {
              "type": "string"
            }
          },
          "metadata": {},
          "execution_count": 14
        }
      ]
    },
    {
      "cell_type": "code",
      "source": [
        "naive_retrieval_chain.invoke({\"question\" : \"What happened in John Wick?\"})[\"response\"].content"
      ],
      "metadata": {
        "colab": {
          "base_uri": "https://localhost:8080/",
          "height": 89
        },
        "id": "lpG6rlvvvKFq",
        "outputId": "9356c5a1-ccd9-4cc6-c3bb-a6cc4adf1853"
      },
      "execution_count": 15,
      "outputs": [
        {
          "output_type": "execute_result",
          "data": {
            "text/plain": [
              "'In John Wick, an ex-hitman named John Wick comes out of retirement to seek vengeance against the gangsters who killed his dog and took everything from him. This sets off a chain of events where John Wick faces off against various adversaries, including Russian mobsters and professional killers, leading to intense action sequences and a relentless pursuit for retribution.'"
            ],
            "application/vnd.google.colaboratory.intrinsic+json": {
              "type": "string"
            }
          },
          "metadata": {},
          "execution_count": 15
        }
      ]
    },
    {
      "cell_type": "markdown",
      "source": [
        "Overall, this is not bad! Let's see if we can make it better!"
      ],
      "metadata": {
        "id": "jsbfQmbr1leg"
      }
    },
    {
      "cell_type": "markdown",
      "source": [
        "## Parent Document Retriever\n",
        "\n",
        "A \"small-to-big\" strategy - the Parent Document Retriever works based on a simple strategy:\n",
        "\n",
        "1. Each un-split \"document\" will be designated as a \"parent document\" (You could use larger chunks of document as well, but our data format allows us to consider the overall document as the parent chunk)\n",
        "2. Store those \"parent documents\" in a memory store (not a VectorStore)\n",
        "3. We will chunk each of those documents into smaller documents, and associate them with their respective parents, and store those in a VectorStore. We'll call those \"child chunks\".\n",
        "4. When we query our Retriever, we will do a similarity search comparing our query vector to the \"child chunks\".\n",
        "5. Instead of returning the \"child chunks\", we'll return their associated \"parent chunks\".\n",
        "\n",
        "Okay, maybe that was a few steps - but the basic idea is this:\n",
        "\n",
        "- Search for small documents\n",
        "- Return big documents\n",
        "\n",
        "The intuition is that we're likely to find the most relevant information by limiting the amount of semantic information that is encoded in each embedding vector - but we're likely to miss relevant surrounding context if we only use that information.\n",
        "\n",
        "Let's start by creating our \"parent documents\" and defining a `RecursiveCharacterTextSplitter`."
      ],
      "metadata": {
        "id": "EDEawBf_d_3G"
      }
    },
    {
      "cell_type": "code",
      "source": [
        "from langchain.retrievers import ParentDocumentRetriever\n",
        "from langchain.storage import InMemoryStore\n",
        "from langchain_text_splitters import RecursiveCharacterTextSplitter\n",
        "from qdrant_client import QdrantClient, models\n",
        "\n",
        "parent_docs = documents\n",
        "child_splitter = RecursiveCharacterTextSplitter(chunk_size=200)"
      ],
      "metadata": {
        "id": "qJ53JJuMd_ZH"
      },
      "execution_count": null,
      "outputs": []
    },
    {
      "cell_type": "markdown",
      "source": [
        "We'll need to set up a new QDrant vectorstore - and we'll use another useful pattern to do so!\n",
        "\n",
        "> NOTE: We are manually defining our embedding dimension, you'll need to change this if you're using a different embedding model."
      ],
      "metadata": {
        "id": "oOpXfVUH3gL3"
      }
    },
    {
      "cell_type": "code",
      "source": [
        "client = QdrantClient(location=\":memory:\")\n",
        "\n",
        "client.create_collection(\n",
        "    collection_name=\"full_documents\",\n",
        "    vectors_config=models.VectorParams(size=1536, distance=models.Distance.COSINE)\n",
        ")\n",
        "\n",
        "parent_document_vectorstore = Qdrant(\n",
        "    collection_name=\"full_documents\", embeddings=OpenAIEmbeddings(model=\"text-embedding-3-small\"), client=client\n",
        ")"
      ],
      "metadata": {
        "id": "rzFc-_9HlGQ-"
      },
      "execution_count": null,
      "outputs": []
    },
    {
      "cell_type": "markdown",
      "source": [
        "Now we can create our `InMemoryStore` that will hold our \"parent documents\" - and build our retriever!"
      ],
      "metadata": {
        "id": "sf_g95FA3s6w"
      }
    },
    {
      "cell_type": "code",
      "source": [
        "store = InMemoryStore()\n",
        "\n",
        "parent_document_retriever = ParentDocumentRetriever(\n",
        "    vectorstore = parent_document_vectorstore,\n",
        "    docstore=store,\n",
        "    child_splitter=child_splitter,\n",
        ")"
      ],
      "metadata": {
        "id": "BpWVjPf4fLUp"
      },
      "execution_count": null,
      "outputs": []
    },
    {
      "cell_type": "markdown",
      "source": [
        "By default, this is empty as we haven't added any documents - let's add some now!"
      ],
      "metadata": {
        "id": "KoYmSWfE32Zo"
      }
    },
    {
      "cell_type": "code",
      "source": [
        "parent_document_retriever.add_documents(parent_docs, ids=None)"
      ],
      "metadata": {
        "id": "iQ2ZzfKigMZc"
      },
      "execution_count": null,
      "outputs": []
    },
    {
      "cell_type": "markdown",
      "source": [
        "We'll create the same chain we did before - but substitute our new `parent_document_retriever`."
      ],
      "metadata": {
        "id": "bI7Tip1335rE"
      }
    },
    {
      "cell_type": "code",
      "source": [
        "parent_document_retrieval_chain = (\n",
        "    {\"context\": itemgetter(\"question\") | parent_document_retriever, \"question\": itemgetter(\"question\")}\n",
        "    | RunnablePassthrough.assign(context=itemgetter(\"context\"))\n",
        "    | {\"response\": rag_prompt | chat_model, \"context\": itemgetter(\"context\")}\n",
        ")"
      ],
      "metadata": {
        "id": "Qq_adt2KlSqp"
      },
      "execution_count": null,
      "outputs": []
    },
    {
      "cell_type": "markdown",
      "source": [
        "Let's give it a whirl!"
      ],
      "metadata": {
        "id": "jNolUVQb4Apt"
      }
    },
    {
      "cell_type": "code",
      "source": [
        "parent_document_retrieval_chain.invoke({\"question\" : \"Did people generally like John Wick?\"})[\"response\"].content"
      ],
      "metadata": {
        "colab": {
          "base_uri": "https://localhost:8080/",
          "height": 36
        },
        "id": "TXB5i89Zly5W",
        "outputId": "c221ff9f-a3ed-4414-87f0-98588d07c7a6"
      },
      "execution_count": null,
      "outputs": [
        {
          "output_type": "execute_result",
          "data": {
            "text/plain": [
              "'Opinions on John Wick seem to be mixed. Some people love the series, while others find it to be nonsense.'"
            ],
            "application/vnd.google.colaboratory.intrinsic+json": {
              "type": "string"
            }
          },
          "metadata": {},
          "execution_count": 216
        }
      ]
    },
    {
      "cell_type": "code",
      "source": [
        "parent_document_retrieval_chain.invoke({\"question\" : \"Do any reviews have a rating of 10? If so - can I have the URLs to those reviews?\"})[\"response\"].content"
      ],
      "metadata": {
        "colab": {
          "base_uri": "https://localhost:8080/",
          "height": 36
        },
        "id": "V5F1T-wNl3cg",
        "outputId": "05015fd3-abeb-403b-a981-0942bb812f7d"
      },
      "execution_count": null,
      "outputs": [
        {
          "output_type": "execute_result",
          "data": {
            "text/plain": [
              "'Yes, there is a review with a rating of 10. Here is the URL to that review: /review/rw4854296/?ref_=tt_urv.'"
            ],
            "application/vnd.google.colaboratory.intrinsic+json": {
              "type": "string"
            }
          },
          "metadata": {},
          "execution_count": 217
        }
      ]
    },
    {
      "cell_type": "code",
      "source": [
        "parent_document_retrieval_chain.invoke({\"question\" : \"What happened in John Wick?\"})[\"response\"].content"
      ],
      "metadata": {
        "colab": {
          "base_uri": "https://localhost:8080/",
          "height": 53
        },
        "id": "ZqARszGzvGcG",
        "outputId": "20540b90-db55-4c3e-951d-bdeb2ef02c8a"
      },
      "execution_count": null,
      "outputs": [
        {
          "output_type": "execute_result",
          "data": {
            "text/plain": [
              "\"In John Wick, a retired assassin named John Wick seeks revenge after gangsters kill his dog and steal his car. He ends up getting dragged into helping take over the Assassin's Guild by traveling to Italy, Canada, and Manhattan to eliminate numerous assassins.\""
            ],
            "application/vnd.google.colaboratory.intrinsic+json": {
              "type": "string"
            }
          },
          "metadata": {},
          "execution_count": 218
        }
      ]
    },
    {
      "cell_type": "markdown",
      "source": [
        "Overall, the performance *seems* largely the same. We can leverage a tool like [Ragas]() to more effectively answer the question about the performance."
      ],
      "metadata": {
        "id": "B41cj42s4DPM"
      }
    },
    {
      "cell_type": "markdown",
      "source": [
        "## Self-Query\n",
        "\n",
        "We have another problem with retrieval - what if people are asking questions based on the metadata, instead of the contained context?\n",
        "\n",
        "That's where Self-Query shines!\n",
        "\n",
        "It not only lets us search our vectorstore in the traditional way (semantic similarity), but we can also filter our vectorstore intelligently based on the provided metadata!\n",
        "\n",
        "Let's start by describing the relevant metadata, and what type of data it is.\n",
        "\n",
        "> NOTE: As always, there's the potential for the natural language description to be leveraged by an LLM - so take care to write informative and descriptive...descriptions!"
      ],
      "metadata": {
        "id": "L7eVqIuHndxp"
      }
    },
    {
      "cell_type": "code",
      "source": [
        "from langchain.chains.query_constructor.base import AttributeInfo\n",
        "from langchain.retrievers.self_query.base import SelfQueryRetriever\n",
        "\n",
        "metadata_field_info = [\n",
        "    AttributeInfo(\n",
        "        name=\"Movie_Title\",\n",
        "        description=\"The title of the movie\",\n",
        "        type=\"string\",\n",
        "    ),\n",
        "    AttributeInfo(\n",
        "        name=\"Review_Date\",\n",
        "        description=\"The date of the review\",\n",
        "        type=\"string\",\n",
        "    ),\n",
        "    AttributeInfo(\n",
        "        name=\"Review_Title\",\n",
        "        description=\"The title of the review\",\n",
        "        type=\"string\",\n",
        "    ),\n",
        "    AttributeInfo(\n",
        "        name=\"Review_Url\",\n",
        "        description=\"The URL of the review\",\n",
        "        type=\"string\",\n",
        "    ),\n",
        "    AttributeInfo(\n",
        "        name=\"Author\",\n",
        "        description=\"The author of the review\",\n",
        "        type=\"string\",\n",
        "    ),\n",
        "    AttributeInfo(\n",
        "        name=\"Rating\",\n",
        "        description=\"A 1 to 10 rating for the movie\",\n",
        "        type=\"integer\",\n",
        "    )\n",
        "]\n",
        "\n",
        "document_content_desription = \"A review of the movie.\"\n",
        "\n",
        "self_query_retriever = SelfQueryRetriever.from_llm(\n",
        "    ChatOpenAI(temperature=0),\n",
        "    vectorstore,\n",
        "    document_content_desription,\n",
        "    metadata_field_info,\n",
        ")"
      ],
      "metadata": {
        "id": "yXqajPS7ns9b"
      },
      "execution_count": null,
      "outputs": []
    },
    {
      "cell_type": "markdown",
      "source": [
        "That's really all we need to do!\n",
        "\n",
        "Let's create our chain, and see how this does!"
      ],
      "metadata": {
        "id": "NRx_xloH5YZZ"
      }
    },
    {
      "cell_type": "code",
      "source": [
        "self_query_retrieval_chain = (\n",
        "    {\"context\": itemgetter(\"question\") | self_query_retriever, \"question\": itemgetter(\"question\")}\n",
        "    | RunnablePassthrough.assign(context=itemgetter(\"context\"))\n",
        "    | {\"response\": rag_prompt | chat_model, \"context\": itemgetter(\"context\")}\n",
        ")"
      ],
      "metadata": {
        "id": "00jOVo98q1lg"
      },
      "execution_count": null,
      "outputs": []
    },
    {
      "cell_type": "code",
      "source": [
        "self_query_retrieval_chain.invoke({\"question\" : \"Did people generally like John Wick?\"})[\"response\"].content"
      ],
      "metadata": {
        "colab": {
          "base_uri": "https://localhost:8080/",
          "height": 36
        },
        "id": "QJcBNTt8q9Zu",
        "outputId": "665faaef-7b69-40c8-baf3-58b763587ac8"
      },
      "execution_count": null,
      "outputs": [
        {
          "output_type": "execute_result",
          "data": {
            "text/plain": [
              "'Yes, people generally liked John Wick.'"
            ],
            "application/vnd.google.colaboratory.intrinsic+json": {
              "type": "string"
            }
          },
          "metadata": {},
          "execution_count": 255
        }
      ]
    },
    {
      "cell_type": "code",
      "source": [
        "self_query_retrieval_chain.invoke({\"question\" : \"Do any reviews have a rating of 10? If so - can I have the URLs to those reviews?\"})[\"response\"].content"
      ],
      "metadata": {
        "colab": {
          "base_uri": "https://localhost:8080/",
          "height": 88
        },
        "id": "RFFr8WUzrB-i",
        "outputId": "6183a3d7-c975-4fb7-fab7-cb635ea499db"
      },
      "execution_count": null,
      "outputs": [
        {
          "output_type": "execute_result",
          "data": {
            "text/plain": [
              "'Yes, there are reviews with a rating of 10. Here are the URLs to those reviews:\\n\\n1. Review by ymyuseda for \"John Wick 3\": [A Masterpiece & Brilliant Sequel](/review/rw4854296/?ref_=tt_urv)\\n2. Review by Johnny_West for \"John Wick 2\": [Entertaining Sequel](/review/rw7582036/?ref_=tt_urv)\\n3. Review by ivo-cobra8 for \"John Wick 1\": [The best action revenge film of all time from 2014 so far!](/review/rw3357633/?ref_=tt_urv)\\n4. Review by IceSkateUpHill for \"John Wick 1\": [Smoothest action film to come around in a long time](/review/rw3109271/?ref_=tt_urv)'"
            ],
            "application/vnd.google.colaboratory.intrinsic+json": {
              "type": "string"
            }
          },
          "metadata": {},
          "execution_count": 256
        }
      ]
    },
    {
      "cell_type": "code",
      "source": [
        "self_query_retrieval_chain.invoke({\"question\" : \"What happened in John Wick?\"})[\"response\"].content"
      ],
      "metadata": {
        "colab": {
          "base_uri": "https://localhost:8080/",
          "height": 53
        },
        "id": "EfbiNk6mvA4a",
        "outputId": "a0ac77a0-11f1-482a-e8e1-899433e15a7b"
      },
      "execution_count": null,
      "outputs": [
        {
          "output_type": "execute_result",
          "data": {
            "text/plain": [
              "'In John Wick, an ex-hitman comes out of retirement to seek vengeance against the gangsters who killed his dog and took everything from him. This sets off a chain of events involving intense action, suspense, and a relentless vendetta.'"
            ],
            "application/vnd.google.colaboratory.intrinsic+json": {
              "type": "string"
            }
          },
          "metadata": {},
          "execution_count": 257
        }
      ]
    },
    {
      "cell_type": "markdown",
      "source": [
        "As we can see - the question concerning specific metadata was answered much better than the previous methods!"
      ],
      "metadata": {
        "id": "mRQDaz3z5gha"
      }
    },
    {
      "cell_type": "markdown",
      "source": [
        "## Time-weighted Vector Store\n",
        "\n",
        "Next up, we have a method that leverages temporal data to more prefer the most recently accessed documents in our VectorStore.\n",
        "\n",
        "> NOTE: In this example we've created a relationship between when the movie came out, and when the chunks were accessed, this is simply for illustrative purposes."
      ],
      "metadata": {
        "id": "vdey4mLb5lTK"
      }
    },
    {
      "cell_type": "markdown",
      "source": [
        "Once again, we'll create a new QDrant vectorstore using the in-memory client."
      ],
      "metadata": {
        "id": "Kl-8EKOj6FrN"
      }
    },
    {
      "cell_type": "code",
      "source": [
        "from langchain.retrievers import TimeWeightedVectorStoreRetriever\n",
        "\n",
        "client = QdrantClient(location=\":memory:\")\n",
        "\n",
        "client.create_collection(\n",
        "    collection_name=\"time_weighted\",\n",
        "    vectors_config=models.VectorParams(size=1536, distance=models.Distance.COSINE)\n",
        ")\n",
        "\n",
        "time_weighted_vectorstore = Qdrant(\n",
        "    collection_name=\"time_weighted\", embeddings=OpenAIEmbeddings(model=\"text-embedding-3-small\"), client=client\n",
        ")"
      ],
      "metadata": {
        "id": "kwwA5Uf_usmL"
      },
      "execution_count": null,
      "outputs": []
    },
    {
      "cell_type": "markdown",
      "source": [
        "In the `TimeWeightedVectorStoreRetriever`, you'll notice that we have a parameter called `decay_rate`. This `decay_rate` is used in the following calculation to scale our cosine-similarity scores by when the document was last accessed:\n",
        "\n",
        "$semantic\\_similarity + (1.0 - decay\\_rate) ^ {hours\\_passed}$\n",
        "\n",
        "As you can see, the decay_rate will be set between $(0-1)$, where $0$ will mean we're never decaying our semantic similarity scores, and $1$ will mean we're also never decaying our semantic similarity scores.\n",
        "\n",
        "As we increase the decay rate from $0 -> 1$ we're going to see items more and more aggresively decaying as time moves along.\n",
        "\n",
        "So a \"low\" decay rate (closer to 0) will lead to items being less penalized for being accessed less-recently - and a \"high\" decay rate (closer to 1) will lead to items being more penalized for being accessed less-recently."
      ],
      "metadata": {
        "id": "PaC0jWzW6NVM"
      }
    },
    {
      "cell_type": "code",
      "source": [
        "time_weighted_retriever = TimeWeightedVectorStoreRetriever(\n",
        "    vectorstore=time_weighted_vectorstore, decay_rate=0.6, k=2,\n",
        ")\n",
        "\n",
        "time_weighted_retriever.add_documents(documents)"
      ],
      "metadata": {
        "colab": {
          "base_uri": "https://localhost:8080/"
        },
        "id": "GGbN1C7VtmQ4",
        "outputId": "fe8a5591-ccf1-4fed-c580-b2c0cc7a6f27"
      },
      "execution_count": null,
      "outputs": [
        {
          "output_type": "execute_result",
          "data": {
            "text/plain": [
              "['dd7bd484497840b7a00180963b53a9d9',\n",
              " '820e6351a26a4972a79a439b5721684c',\n",
              " '74a34546875845118ba47b6b681846e0',\n",
              " '66111f29683347cdbbd227fb120763a4',\n",
              " '058416a8a23a4369b175d16ad093db4c',\n",
              " 'c21904195b3844f7a650f885f52e8bdc',\n",
              " '1501a60845e34e25a6b843a02147e87a',\n",
              " '49c2335131fe46f983ea4a9db635f2ed',\n",
              " '1f8414843bf744579984bf75081d37a9',\n",
              " '1d4988ece597478aa7f3d6a730f6961e',\n",
              " 'a05e8e5892be428a8f367481b96ee4da',\n",
              " '17d5308625e44aa6a0ace97698149432',\n",
              " '9a8a1d40d0be4022853c86e1c3f0247e',\n",
              " 'fcd0be8b7da74daebcb34724db455df0',\n",
              " 'cc06f83437ce45178212d450e15bc7e9',\n",
              " 'eacc6f1e9a3741b1ac3e0621c077c8e3',\n",
              " 'e032363220234580bdd587582e2a73b3',\n",
              " '98aab3a640584525b9e09ac3c69526cb',\n",
              " '772427ab44a942fcb048242eaac29e5b',\n",
              " '3aa4553f59354fab908f09c69c3239f1',\n",
              " 'e0e2c6761aee4869a307929953b82dfa',\n",
              " '12f591e376dc4d13a11d1d3f7101b215',\n",
              " '3091b5297c914ae69c18bcb4e0f5c514',\n",
              " 'f199dbd19aea439eb90491fe880a5ec9',\n",
              " '55995a632624495995785771510fc805',\n",
              " 'c8729468b8364b6983bc50ac260dd9a8',\n",
              " '7fd31b219b664873bb0eb2409356b6d4',\n",
              " '5cbe797219024543aac9da268b0f74fc',\n",
              " '647661a4a7db4092883e2b96b7751435',\n",
              " '0f6bec1b6b6a49219c168f110e014eca',\n",
              " '370371bab8d34e0e8ebc363a08a42416',\n",
              " '3e5db69e81104a9da36b44df98e1cfa7',\n",
              " '0a6e5c0417774b66a0c80f41aaad1aaf',\n",
              " 'ffa89b9528a84a46a0db607df1fc5a53',\n",
              " 'fbbb0e0d9b98497c8fe5a1a074a81f5f',\n",
              " 'c044ad4c6b864201a89f60a4240f6190',\n",
              " '836fbedf7a7440fab531410282a35459',\n",
              " '990effa0dfae41528b31f99b32e58e90',\n",
              " 'df413bcc041a405eabd875309cb86f66',\n",
              " '9b355121f3fb40b9aca99bf46dfcea60',\n",
              " 'e40061ffb963474497d0f843590c0a3f',\n",
              " '7aa8e340f6b24690aa747afc3fce80b4',\n",
              " '00f78d44cfe4419ca63f1fac42b89b4f',\n",
              " 'a1f17fd3a5e24d1fa26aa57a6ad65ed9',\n",
              " 'a629146813bf4dd2b600d254ebd03db5',\n",
              " 'c5573c01d5be4f1593cfdf892dcfeb05',\n",
              " '660a2bcf3a6949f2972eadec1b947ed8',\n",
              " 'd1e0e00fa6ea4e3f9cb6920fe604c972',\n",
              " '7fa12e74d68e4a89ae218e800099b489',\n",
              " '4d6fb1932d2d4c8a93b1d2bab04b69ab',\n",
              " '0aef67d4d35a4bb899e7a3311f2fc926',\n",
              " '400dc21e8c8a44bdba3d4d8441c63d10',\n",
              " 'b4014ceb97364818931a8b1ce1dddfd1',\n",
              " 'd774499d780c40a79288eaa68a06a660',\n",
              " 'f3a74dcea78243c2bf2ad49133f7ddcd',\n",
              " '784c748963704a17802b4e14d874ae60',\n",
              " 'a8613159a9dd46789307ae266087ccfc',\n",
              " '0a26b690128748658176e57191c626b2',\n",
              " '681cdafc861b4de4842303b8b023bf51',\n",
              " '6436b94922a74f4c9bf8b8a9d374d6c8',\n",
              " '88eb8e79a3d548ad8def482c48c1a613',\n",
              " '84503d1637a54ceda57163162de36394',\n",
              " '8bb4b7f9d4984643a399971927546aee',\n",
              " '63f52d5df0374416b7687eb620fb15bb',\n",
              " '6f1b93117de4423a85a4fb9c2ebb5449',\n",
              " 'd790f2bd13bc4d898eeb093f9f489761',\n",
              " 'a7187d2c747f43628a133a8c708d6638',\n",
              " 'f4f7ce3fb11349428f2919d7fc62ff6a',\n",
              " 'fc83e561512a415c93a2e77eb6901674',\n",
              " '01cf20962cd544c28634cfe5eb13e38b',\n",
              " '434f7e4040f545569fd76142265b67bf',\n",
              " '43690c73b1604218837c494c565dbdc5',\n",
              " '040aa4faf53d480cad3def32fb126ef2',\n",
              " '0f44c13d65b040d2b2bb08e9e5faf0ae',\n",
              " '12f0f3a2cedd45cbb969f231370f138c',\n",
              " '276cd9cf186140bfb9d2dfcb5fdd9a05',\n",
              " 'a5a43a2d0f2140ee880c6a69210fad2a',\n",
              " '810aadbaaa164b349ef68eca1fc9d3b0',\n",
              " 'd663173798ee4a4bab862e5f3cea4ea3',\n",
              " '33de2fdf547749c7a2b8c63eb6e5370a',\n",
              " 'd08add1359f84b2698276484e60cbc3f',\n",
              " '23a4bc16507240bf83308912922b12ac',\n",
              " '3b4b0025706b4093872083bf925472f8',\n",
              " '2a13ec2a03e14f42adef382c1c9bd113',\n",
              " '9ff02317faf14dda9084051815141183',\n",
              " 'ddfa62d6ded64c3bbe307d22d5de4f6d',\n",
              " 'e52ba478dea4499aad1d9244aaef4a46',\n",
              " '1d9e7ceb284c466992b2ba106ff8c259',\n",
              " 'a6de484884b44d6cb5c43760306afb8c',\n",
              " 'd1adb1cd07554bc9b8d56f89ca8a58fe',\n",
              " '6a18b51973cd48a293636c4c719b4402',\n",
              " '62bcd410d6f54c878492656999ba179d',\n",
              " '3e8fab7779b84a00b146b526f27a2653',\n",
              " '4a39e4a7179a4cb6acbbc272f180c055',\n",
              " '7b7e3145ac044849af383a17264ab9ed',\n",
              " '109a60be9b5b4b939c44109e3f1908e6',\n",
              " '772078160f244d46af6a206c5a96864c',\n",
              " 'bbbc60c727b343d0be795c2fb6f01e6f',\n",
              " '49f19d91f1724607841d4d2d60f27852',\n",
              " 'fded49754de944a69b6e6e7a0aeea07b']"
            ]
          },
          "metadata": {},
          "execution_count": 225
        }
      ]
    },
    {
      "cell_type": "markdown",
      "source": [
        "Let's create our same RAG chain that we've been using so far!"
      ],
      "metadata": {
        "id": "P4lJVH708Xf8"
      }
    },
    {
      "cell_type": "code",
      "source": [
        "time_weighted_retrieval_chain = (\n",
        "    {\"context\": itemgetter(\"question\") | time_weighted_retriever, \"question\": itemgetter(\"question\")}\n",
        "    | RunnablePassthrough.assign(context=itemgetter(\"context\"))\n",
        "    | {\"response\": rag_prompt | chat_model, \"context\": itemgetter(\"context\")}\n",
        ")"
      ],
      "metadata": {
        "id": "lLdJW2vSu2UP"
      },
      "execution_count": null,
      "outputs": []
    },
    {
      "cell_type": "markdown",
      "source": [
        "Let's test this iteration!"
      ],
      "metadata": {
        "id": "15p5N_cV8uIu"
      }
    },
    {
      "cell_type": "code",
      "source": [
        "time_weighted_retrieval_chain.invoke({\"question\" : \"Did people generally like John Wick?\"})[\"response\"].content"
      ],
      "metadata": {
        "colab": {
          "base_uri": "https://localhost:8080/",
          "height": 36
        },
        "id": "EhjeB3ctuehR",
        "outputId": "306c9ab3-4d2b-4ce1-acaa-469806bc729e"
      },
      "execution_count": null,
      "outputs": [
        {
          "output_type": "execute_result",
          "data": {
            "text/plain": [
              "'Yes, people generally liked John Wick 4 based on the reviews provided.'"
            ],
            "application/vnd.google.colaboratory.intrinsic+json": {
              "type": "string"
            }
          },
          "metadata": {},
          "execution_count": 227
        }
      ]
    },
    {
      "cell_type": "code",
      "source": [
        "time_weighted_retrieval_chain.invoke({\"question\" : \"Do any reviews have a rating of 10? If so - can I have the URLs to those reviews?\"})[\"response\"].content"
      ],
      "metadata": {
        "colab": {
          "base_uri": "https://localhost:8080/",
          "height": 36
        },
        "id": "qNxNQizAvSYz",
        "outputId": "bb3f7f47-f755-489d-f07d-5c3dd0039a3d"
      },
      "execution_count": null,
      "outputs": [
        {
          "output_type": "execute_result",
          "data": {
            "text/plain": [
              "\"I'm sorry, but there are no reviews with a rating of 10 in the provided context.\""
            ],
            "application/vnd.google.colaboratory.intrinsic+json": {
              "type": "string"
            }
          },
          "metadata": {},
          "execution_count": 228
        }
      ]
    },
    {
      "cell_type": "code",
      "source": [
        "time_weighted_retrieval_chain.invoke({\"question\" : \"What happened in John Wick?\"})[\"response\"].content"
      ],
      "metadata": {
        "colab": {
          "base_uri": "https://localhost:8080/",
          "height": 36
        },
        "id": "YIRhGCXUvVC3",
        "outputId": "d618e09c-9047-48e4-e991-78200b28d33a"
      },
      "execution_count": null,
      "outputs": [
        {
          "output_type": "execute_result",
          "data": {
            "text/plain": [
              "'In John Wick 4, there is a lot of action and intense fight scenes involving Keanu Reeves. It seems to have impressed some viewers with its high energy and fast-paced sequences.'"
            ],
            "application/vnd.google.colaboratory.intrinsic+json": {
              "type": "string"
            }
          },
          "metadata": {},
          "execution_count": 229
        }
      ]
    },
    {
      "cell_type": "markdown",
      "source": [
        "As you can see, we're heavily biasing the more \"recently accessed\" documents (John Wick 4, in this case)."
      ],
      "metadata": {
        "id": "U50f7UbF8wh4"
      }
    },
    {
      "cell_type": "markdown",
      "source": [
        "## Contextual Compression\n",
        "\n",
        "Contextual Compression is a fairly straightforward idea: We want to \"compress\" our retrieved context into just the most useful bits.\n",
        "\n",
        "There are a few ways we can achieve this - but we're going to look at a specific example called reranking.\n",
        "\n",
        "The basic idea here is this:\n",
        "\n",
        "- We retrieve lots of documents that are very likely related to our query vector\n",
        "- We \"compress\" those documents into a smaller set of *more* related documents using a reranking algorithm.\n",
        "\n",
        "We'll be leveraging Cohere's Rerank model for our reranker today!\n",
        "\n",
        "All we need to do is the following:\n",
        "\n",
        "- Create a basic retriever\n",
        "- Create a compressor (reranker, in this case)\n",
        "\n",
        "That's it!\n",
        "\n",
        "Let's see it in the code below!"
      ],
      "metadata": {
        "id": "Q-dcbFn2vpZF"
      }
    },
    {
      "cell_type": "code",
      "source": [
        "from langchain.retrievers.contextual_compression import ContextualCompressionRetriever\n",
        "from langchain_cohere import CohereRerank\n",
        "\n",
        "compressor = CohereRerank()\n",
        "compression_retriever = ContextualCompressionRetriever(\n",
        "    base_compressor=compressor, base_retriever=naive_retriever\n",
        ")"
      ],
      "metadata": {
        "id": "psHvO2K1v_ZQ"
      },
      "execution_count": null,
      "outputs": []
    },
    {
      "cell_type": "markdown",
      "source": [
        "Let's create our chain again, and see how this does!"
      ],
      "metadata": {
        "id": "_TA9RB2x-j7P"
      }
    },
    {
      "cell_type": "code",
      "source": [
        "contextual_compression_retrieval_chain = (\n",
        "    {\"context\": itemgetter(\"question\") | compression_retriever, \"question\": itemgetter(\"question\")}\n",
        "    | RunnablePassthrough.assign(context=itemgetter(\"context\"))\n",
        "    | {\"response\": rag_prompt | chat_model, \"context\": itemgetter(\"context\")}\n",
        ")"
      ],
      "metadata": {
        "id": "1BXqmxvHwX6T"
      },
      "execution_count": null,
      "outputs": []
    },
    {
      "cell_type": "code",
      "source": [
        "contextual_compression_retrieval_chain.invoke({\"question\" : \"Did people generally like John Wick?\"})[\"response\"].content"
      ],
      "metadata": {
        "colab": {
          "base_uri": "https://localhost:8080/",
          "height": 36
        },
        "id": "V3iGpokswcBb",
        "outputId": "98d1ea4d-4647-4a9a-a47a-2fef03204cbd"
      },
      "execution_count": null,
      "outputs": [
        {
          "output_type": "execute_result",
          "data": {
            "text/plain": [
              "'Yes, people generally liked John Wick based on the reviews provided.'"
            ],
            "application/vnd.google.colaboratory.intrinsic+json": {
              "type": "string"
            }
          },
          "metadata": {},
          "execution_count": 232
        }
      ]
    },
    {
      "cell_type": "code",
      "source": [
        "contextual_compression_retrieval_chain.invoke({\"question\" : \"Do any reviews have a rating of 10? If so - can I have the URLs to those reviews?\"})[\"response\"].content"
      ],
      "metadata": {
        "colab": {
          "base_uri": "https://localhost:8080/",
          "height": 36
        },
        "id": "7u_k0i4OweUd",
        "outputId": "6def197b-e544-4011-dff9-ebf20b934450"
      },
      "execution_count": null,
      "outputs": [
        {
          "output_type": "execute_result",
          "data": {
            "text/plain": [
              "'Yes, there is a review with a rating of 10. Here is the URL to that review: \\n/review/rw4854296/?ref_=tt_urv'"
            ],
            "application/vnd.google.colaboratory.intrinsic+json": {
              "type": "string"
            }
          },
          "metadata": {},
          "execution_count": 233
        }
      ]
    },
    {
      "cell_type": "code",
      "source": [
        "contextual_compression_retrieval_chain.invoke({\"question\" : \"What happened in John Wick?\"})[\"response\"].content"
      ],
      "metadata": {
        "colab": {
          "base_uri": "https://localhost:8080/",
          "height": 70
        },
        "id": "zn1EqaGqweXN",
        "outputId": "ce9a8576-85d7-4523-b270-5dfb38b763b6"
      },
      "execution_count": null,
      "outputs": [
        {
          "output_type": "execute_result",
          "data": {
            "text/plain": [
              "\"In John Wick, the character John Wick, played by Keanu Reeves, is forced out of retirement by a mobster named Santino D'Antonio who asks him to kill his sister in Rome. After completing the task, Santino puts a contract on John Wick's life, leading to a series of events where Wick faces professional killers from all over. Wick then seeks revenge against Santino.\""
            ],
            "application/vnd.google.colaboratory.intrinsic+json": {
              "type": "string"
            }
          },
          "metadata": {},
          "execution_count": 234
        }
      ]
    },
    {
      "cell_type": "markdown",
      "source": [
        "Again, it's hard to qualitatively assess this solution - but it \"seems\" better!"
      ],
      "metadata": {
        "id": "OEbT0g2S-mZ4"
      }
    }
  ]
}