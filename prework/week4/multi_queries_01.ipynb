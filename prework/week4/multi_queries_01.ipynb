{
 "cells": [
  {
   "cell_type": "markdown",
   "metadata": {},
   "source": [
    "# Multi-Queries Exploration"
   ]
  },
  {
   "cell_type": "markdown",
   "metadata": {},
   "source": [
    "Query Expansion & Queries:\n",
    "\n",
    "- Multi-Step Query Engine: [doc](https://docs.llamaindex.ai/en/stable/examples/query_transformations/SimpleIndexDemo-multistep/)\n",
    "- Subquery Query Engine: [doc](https://docs.llamaindex.ai/en/stable/examples/query_engine/sub_question_query_engine/)"
   ]
  },
  {
   "cell_type": "code",
   "execution_count": null,
   "metadata": {},
   "outputs": [],
   "source": [
    "%pip install llama-index-postprocessor-cohere-rerank"
   ]
  },
  {
   "cell_type": "code",
   "execution_count": 22,
   "metadata": {},
   "outputs": [
    {
     "data": {
      "text/plain": [
       "True"
      ]
     },
     "execution_count": 22,
     "metadata": {},
     "output_type": "execute_result"
    }
   ],
   "source": [
    "import os\n",
    "from IPython.display import Markdown, display\n",
    "from dotenv import find_dotenv, load_dotenv\n",
    "\n",
    "load_dotenv(find_dotenv())"
   ]
  },
  {
   "cell_type": "code",
   "execution_count": 43,
   "metadata": {},
   "outputs": [],
   "source": [
    "from llama_index.core import (\n",
    "    Settings, VectorStoreIndex\n",
    ")\n",
    "from llama_index.core.callbacks import (\n",
    "    TokenCountingHandler, \n",
    "    CallbackManager,\n",
    "    LlamaDebugHandler,\n",
    ")\n",
    "from llama_index.llms.openai import OpenAI\n",
    "from langchain_community.embeddings import VoyageEmbeddings\n",
    "from llama_index.postprocessor.cohere_rerank import CohereRerank\n",
    "from functions.embeddings.sfr_embeddings_llamaindex import SFREmbeddingsForLlamaIndex\n",
    "from functions.rerank.sfr_reranker import SFRRerank\n",
    "\n",
    "selected_embedding = \"SFR\"\n",
    "if selected_embedding == \"SFR\":\n",
    "\n",
    "    EMBEDDING_MODEL = \"sfr_embedding_mistral\"\n",
    "    embedding_model = SFREmbeddingsForLlamaIndex()\n",
    "    embedding_dimension = 4096\n",
    "    \n",
    "elif selected_embedding == \"OPENAI\":\n",
    "    from llama_index.embeddings.openai import OpenAIEmbedding\n",
    "    EMBEDDING_MODEL = \"text-embedding-3-large\"\n",
    "    embedding_model = OpenAIEmbedding(model=EMBEDDING_MODEL)\n",
    "    embedding_dimension = 3072\n",
    "\n",
    "elif selected_embedding == \"VOYAGE\":\n",
    "    EMBEDDING_MODEL = \"voyage-2\"  # Alternative: \"voyage-lite-02-instruct\"\n",
    "    embedding_model = VoyageEmbeddings(model=EMBEDDING_MODEL, batch_size=12)\n",
    "    embedding_dimension = 1024\n",
    "    \n",
    "\n",
    "GPT3_MODEL_NAME = \"gpt-3.5-turbo-0125\"\n",
    "GPT4_MODEL_NAME = \"gpt-4-0125-preview\"\n",
    "GPT4_0125_MODEL = \"gpt-4-0125-preview\"\n",
    "\n",
    "# LlamaIndex\n",
    "gpt3_model = OpenAI(model=GPT3_MODEL_NAME)\n",
    "gpt4_model = OpenAI(model=GPT4_MODEL_NAME)\n",
    "\n",
    "llama_debug = LlamaDebugHandler(print_trace_on_end=True)\n",
    "token_counter = TokenCountingHandler()\n",
    "Settings.llm = gpt4_model\n",
    "Settings.embed_model = embedding_model\n",
    "Settings.callback_manager = CallbackManager([token_counter, llama_debug])"
   ]
  },
  {
   "cell_type": "code",
   "execution_count": 3,
   "metadata": {},
   "outputs": [],
   "source": [
    "import nest_asyncio\n",
    "nest_asyncio.apply()\n",
    "\n",
    "from llama_parse import LlamaParse"
   ]
  },
  {
   "cell_type": "code",
   "execution_count": 4,
   "metadata": {},
   "outputs": [],
   "source": [
    "from pathlib import Path\n",
    "from typing import Dict, List, Tuple, Type\n",
    "from llama_index.core.node_parser.interface import NodeParser\n",
    "from llama_index.core import SimpleDirectoryReader\n",
    "\n",
    "LLAMA_CLOUD_API_KEY = os.getenv(\"LLAMA_CLOUD_API_KEY\")\n",
    "llama_reader = LlamaParse(\n",
    "    api_key=LLAMA_CLOUD_API_KEY, \n",
    "    result_type=\"markdown\",  \n",
    "    verbose=True\n",
    ")\n",
    "FILE_NODE_PARSERS: Dict[str, Type[NodeParser]] = {\n",
    "    \".pdf\": llama_reader\n",
    "}"
   ]
  },
  {
   "cell_type": "code",
   "execution_count": 5,
   "metadata": {},
   "outputs": [
    {
     "name": "stdout",
     "output_type": "stream",
     "text": [
      "Started parsing the file under job_id d6dd55d4-e8f7-4a06-9713-600603e4aefc\n",
      "1\n"
     ]
    }
   ],
   "source": [
    "input_dir = \"../../data/10k\"\n",
    "if Path(input_dir).exists():\n",
    "    documents = SimpleDirectoryReader(\n",
    "        input_dir=input_dir,\n",
    "        file_extractor=FILE_NODE_PARSERS,\n",
    "        recursive=True,\n",
    "    ).load_data(num_workers=10)\n",
    "    print(len(documents))"
   ]
  },
  {
   "cell_type": "code",
   "execution_count": null,
   "metadata": {},
   "outputs": [],
   "source": [
    "from llama_index.core.node_parser import MarkdownElementNodeParser\n",
    "\n",
    "node_parser = MarkdownElementNodeParser(\n",
    "    llm=gpt3_model, \n",
    "    num_workers=8,\n",
    "    verbose=False\n",
    ")\n",
    "nodes = node_parser.get_nodes_from_documents(documents)\n",
    "base_nodes, objects = node_parser.get_nodes_and_objects(nodes)"
   ]
  },
  {
   "cell_type": "code",
   "execution_count": 7,
   "metadata": {},
   "outputs": [],
   "source": [
    "recursive_index = VectorStoreIndex(nodes=base_nodes + objects)\n",
    "raw_index = VectorStoreIndex.from_documents(documents)"
   ]
  },
  {
   "cell_type": "code",
   "execution_count": 10,
   "metadata": {},
   "outputs": [],
   "source": [
    "# reranker = SFRRerank(top_n=10)\n",
    "reranker = CohereRerank(top_n=10)\n",
    "\n",
    "recursive_query_engine = recursive_index.as_query_engine(\n",
    "    similarity_top_k=3, \n",
    "    node_postprocessors=[reranker], \n",
    "    verbose=False\n",
    ")\n",
    "\n",
    "raw_query_engine = raw_index.as_query_engine(\n",
    "    similarity_top_k=3, \n",
    "    node_postprocessors=[reranker], \n",
    "    verbose=False\n",
    ")"
   ]
  },
  {
   "cell_type": "code",
   "execution_count": null,
   "metadata": {},
   "outputs": [],
   "source": [
    "query = \"What is Salesforce's strategy for Slack?  Evaluate how critical does Salesforce consider Slack to its business.\"\n",
    "\n",
    "response_1 = raw_query_engine.query(query)\n",
    "response_2 = recursive_query_engine.query(query)"
   ]
  },
  {
   "cell_type": "code",
   "execution_count": 16,
   "metadata": {},
   "outputs": [
    {
     "name": "stdout",
     "output_type": "stream",
     "text": [
      "\n",
      "***********Basic Query Engine***********\n",
      "Salesforce's strategy for Slack involves enhancing and improving its features, integrations, and capabilities, as well as introducing compelling new features, integrations, and capabilities that reflect or anticipate the changing nature of the market. This approach is aimed at attracting new users and organizations and increasing revenue from existing paid customers. Salesforce considers Slack to be critically important to its business, as evidenced by the fact that it was Salesforce's largest acquisition to date as of July 2021. Slack represents a relatively new category of business technology in a rapidly evolving market for software, programs, and tools used by knowledge workers. Salesforce's focus on Slack underscores the company's commitment to expanding its service offerings and adapting to the rapidly changing technological landscape to maintain and grow its customer base and revenue streams.\n"
     ]
    }
   ],
   "source": [
    "print(\"\\n***********Basic Query Engine***********\")\n",
    "print(response_1)"
   ]
  },
  {
   "cell_type": "code",
   "execution_count": 17,
   "metadata": {},
   "outputs": [
    {
     "name": "stdout",
     "output_type": "stream",
     "text": [
      "\n",
      "***********Recursive Retriever Query Engine***********\n",
      "Salesforce's strategy for Slack involves enhancing and improving its features, integrations, and capabilities to reflect or anticipate the changing nature of the market for software, programs, and tools used by knowledge workers. This strategy indicates Salesforce's intention to make Slack a key component of its broader service offerings, aiming to attract new users and organizations while increasing revenue from existing paid customers. Salesforce considers Slack critically important to its business, as evidenced by its designation of the acquisition as its largest to date and the emphasis on the need to succeed in the rapidly evolving market. The focus on continuously enhancing Slack's AI offerings and integrating it effectively within Salesforce's ecosystem underscores the importance of Slack in maintaining Salesforce's competitive edge and fulfilling its commitment to innovation and customer success. Failure to effectively integrate and enhance Slack could harm Salesforce's business, indicating the high stakes Salesforce places on the success of Slack within its overall business strategy.\n"
     ]
    }
   ],
   "source": [
    "print(\"\\n***********Recursive Retriever Query Engine***********\")\n",
    "print(response_2)"
   ]
  },
  {
   "cell_type": "markdown",
   "metadata": {},
   "source": [
    "## Multi-Step Query Engine"
   ]
  },
  {
   "cell_type": "code",
   "execution_count": 33,
   "metadata": {},
   "outputs": [],
   "source": [
    "from llama_index.core.query_engine import MultiStepQueryEngine\n",
    "from llama_index.core.indices.query.query_transform.base import (\n",
    "    StepDecomposeQueryTransform,\n",
    ")\n",
    "\n",
    "index_summary = \"Salesforce financial and business 10K report for 2022-2023\"\n",
    "step_decompose_transform = StepDecomposeQueryTransform(llm=gpt4_model, verbose=False)\n",
    "multistep_raw_query_engine = MultiStepQueryEngine(\n",
    "    query_engine=raw_query_engine,\n",
    "    query_transform=step_decompose_transform,\n",
    "    index_summary=index_summary,\n",
    ")\n",
    "multistep_recur_query_engine = MultiStepQueryEngine(\n",
    "    query_engine=recursive_query_engine,\n",
    "    query_transform=step_decompose_transform,\n",
    "    index_summary=index_summary,\n",
    ")"
   ]
  },
  {
   "cell_type": "code",
   "execution_count": null,
   "metadata": {},
   "outputs": [],
   "source": [
    "raw_response_mstep = raw_query_engine.query(query)\n",
    "recursive_response_mstep = recursive_query_engine.query(query)"
   ]
  },
  {
   "cell_type": "code",
   "execution_count": 35,
   "metadata": {},
   "outputs": [
    {
     "name": "stdout",
     "output_type": "stream",
     "text": [
      "Salesforce's strategy for Slack involves enhancing and improving its features, integrations, and capabilities to reflect or anticipate the changing nature of the market. This approach is aimed at attracting new users and organizations while increasing revenue from existing paid customers. Salesforce considers Slack to be a critical component of its business, as evidenced by its designation as the company's largest acquisition to date. The emphasis on Slack underscores Salesforce's commitment to expanding its product offerings and staying at the forefront of technological developments in the rapidly evolving market for software, programs, and tools used by knowledge workers. The integration and development of Slack are pivotal to Salesforce's broader strategy of providing comprehensive and innovative solutions that cater to the digital-first customer experience, thereby reinforcing its position as a leader in customer relationship management technology.\n"
     ]
    }
   ],
   "source": [
    "print(recursive_response_mstep)"
   ]
  },
  {
   "cell_type": "code",
   "execution_count": 36,
   "metadata": {},
   "outputs": [
    {
     "name": "stdout",
     "output_type": "stream",
     "text": [
      "Salesforce's strategy for Slack involves enhancing and improving its features, integrations, and capabilities, as well as introducing compelling new features, integrations, and capabilities that reflect or anticipate the changing nature of the market. This approach is aimed at attracting new users and organizations and increasing revenue from existing paid customers. Salesforce considers Slack to be critically important to its business, as evidenced by its designation as the company's largest acquisition to date. The acquisition reflects Salesforce's commitment to expanding its service offerings and adapting to the rapidly evolving market for software, programs, and tools used by knowledge workers. The emphasis on successfully integrating and developing Slack indicates that Salesforce views it as a significant component of its strategy to remain competitive and grow its business in the face of rapid technological developments and changing customer needs.\n"
     ]
    }
   ],
   "source": [
    "print(raw_response_mstep)"
   ]
  },
  {
   "cell_type": "markdown",
   "metadata": {},
   "source": [
    "## Sub-Query Query Engine"
   ]
  },
  {
   "cell_type": "code",
   "execution_count": 44,
   "metadata": {},
   "outputs": [],
   "source": [
    "from llama_index.core.query_engine import SubQuestionQueryEngine\n",
    "from llama_index.core.tools import QueryEngineTool, ToolMetadata\n",
    "\n",
    "query_engine_tools = [\n",
    "    QueryEngineTool(\n",
    "        query_engine=recursive_query_engine,\n",
    "        metadata=ToolMetadata(\n",
    "            name=\"Salesforce10K\",\n",
    "            description=\"Salesforce financial and business 10K report for 2022-2023\",\n",
    "        ),\n",
    "    ),\n",
    "]\n",
    "\n",
    "subquestion_query_engine = SubQuestionQueryEngine.from_defaults(\n",
    "    query_engine_tools=query_engine_tools,\n",
    "    use_async=True,\n",
    ")"
   ]
  },
  {
   "cell_type": "code",
   "execution_count": null,
   "metadata": {},
   "outputs": [],
   "source": [
    "subquestion_response_mstep = subquestion_query_engine.query(query)"
   ]
  },
  {
   "cell_type": "code",
   "execution_count": 47,
   "metadata": {},
   "outputs": [
    {
     "name": "stdout",
     "output_type": "stream",
     "text": [
      "Salesforce's strategy for Slack is centered around leveraging it as a digital headquarters to facilitate collaboration and increase productivity within companies, employees, governments, and stakeholders. This approach is integral to Salesforce's broader business strategy, aiming to transform businesses around the customer in a digital-first world. Slack is positioned as a key component in enhancing Salesforce's Customer 360 platform, contributing significantly to the delivery of intelligent, personalized experiences across every channel. This indicates that Salesforce considers Slack to be critically important to its overall business strategy, as it plays a crucial role in enabling Salesforce to achieve its goal of connecting companies of every size and industry with their customers in new ways and transforming their businesses in the context of a digital-first approach.\n"
     ]
    }
   ],
   "source": [
    "print(subquestion_response_mstep)"
   ]
  },
  {
   "cell_type": "code",
   "execution_count": null,
   "metadata": {},
   "outputs": [],
   "source": []
  }
 ],
 "metadata": {
  "kernelspec": {
   "display_name": "llmops",
   "language": "python",
   "name": "python3"
  },
  "language_info": {
   "codemirror_mode": {
    "name": "ipython",
    "version": 3
   },
   "file_extension": ".py",
   "mimetype": "text/x-python",
   "name": "python",
   "nbconvert_exporter": "python",
   "pygments_lexer": "ipython3",
   "version": "3.11.8"
  }
 },
 "nbformat": 4,
 "nbformat_minor": 2
}
