{
 "cells": [
  {
   "cell_type": "code",
   "execution_count": 1,
   "metadata": {},
   "outputs": [],
   "source": [
    "import json"
   ]
  },
  {
   "cell_type": "code",
   "execution_count": 2,
   "metadata": {},
   "outputs": [],
   "source": [
    "with open(\"sbs.json\", \"r\") as file:\n",
    "    sbs = json.load(file)"
   ]
  },
  {
   "cell_type": "code",
   "execution_count": 3,
   "metadata": {},
   "outputs": [
    {
     "data": {
      "text/plain": [
       "597"
      ]
     },
     "execution_count": 3,
     "metadata": {},
     "output_type": "execute_result"
    }
   ],
   "source": [
    "len(sbs)"
   ]
  },
  {
   "cell_type": "code",
   "execution_count": 4,
   "metadata": {},
   "outputs": [
    {
     "data": {
      "text/plain": [
       "597"
      ]
     },
     "execution_count": 4,
     "metadata": {},
     "output_type": "execute_result"
    }
   ],
   "source": [
    "sbs_values = sbs.values()\n",
    "len(sbs_values)"
   ]
  },
  {
   "cell_type": "code",
   "execution_count": 6,
   "metadata": {},
   "outputs": [
    {
     "data": {
      "text/plain": [
       "597"
      ]
     },
     "execution_count": 6,
     "metadata": {},
     "output_type": "execute_result"
    }
   ],
   "source": [
    "contents = [item[\"content\"] for item in sbs_values]\n",
    "len(contents)"
   ]
  },
  {
   "cell_type": "code",
   "execution_count": 7,
   "metadata": {},
   "outputs": [
    {
     "data": {
      "text/plain": [
       "\"Calculate and Record a Manual Check (Gross Pay)    Calculate and Record a Manual Check (Gross Pay)  **Start here: Payroll > Calculate manual checks**    1. In the  **Who is the paycheck for?**  field, select the employee or contractor the check is for.   2. Enter the  **Check Date**.   3. Click **  Match pay period start/end dates** to pre-fill the Pay Period Start Date and Pay Period End Date based on the employee's frequency and match it to the payroll that processed with that check date. Users can select different dates, if needed.   4. Click  **Go**.   5. Click to select the **Calculate Net Pay** button.   6. From the Earnings field, select the appropriate **Earning.**    **Important** : For Overtime, it will automatically adjust pay rate to time and one-half.  If any of your employees are paid by the hour, you must enter the hourly amount in the Rate field. Hours are only required for your regular employees. If they work in a SUI state such as DC, MA or WA. (Refer to your state SUI guidelines for more information.)    7. **Optional steps** allowing your employees to list several different hourly rates under one earning.     * Click  **Show more earnings**  to display additional earnings that the client set up.     * Click  **Add another earning**  to add additional rows of an existing earning.   8. This allows your employees to In the  **Pay Period  **field, enter the amount of pay periods the check is to be taxed over.   9. In the **  Weeks Worked** field, enter the number of weeks that the manual check covers.   10. Click  **Calculate Paycheck** to open the Preview page.   11. On the Preview page review the check and click  **Record to Next Payroll.**   12. On the pop-up message enter the **check number** for this pay and click  **Continue**.   13. On the next pop-up message, click **  Calculate Another Paycheck** or  **Go to the Home Page**.    **Important** : The manual check is saved as a Pending Payroll item and the check is recorded when the next payroll processes.  PTO balances      * **Accrue from a manual check** and are automatically updated when the PTO is paid on the manual check for both Regular and Off-Cycle payrolls.      * **Don 't accrue from a manual check** when the PTO is included for an Off-Cycle payroll.    **Note** : The amounts entered for Federal Income Tax and State Income Tax will show as flat amount overrides on the manual check Pay Stub. This is cosmetic and does not affect current or future withholdings.  \""
      ]
     },
     "execution_count": 7,
     "metadata": {},
     "output_type": "execute_result"
    }
   ],
   "source": [
    "contents[0]"
   ]
  },
  {
   "cell_type": "code",
   "execution_count": 8,
   "metadata": {},
   "outputs": [
    {
     "data": {
      "text/plain": [
       "597"
      ]
     },
     "execution_count": 8,
     "metadata": {},
     "output_type": "execute_result"
    }
   ],
   "source": [
    "len(contents)"
   ]
  },
  {
   "cell_type": "code",
   "execution_count": 10,
   "metadata": {},
   "outputs": [],
   "source": [
    "with open(\"sbs.content.txt\", \"w\") as file:\n",
    "    for s in contents:\n",
    "        file.write(s + \"\\n\")"
   ]
  },
  {
   "cell_type": "code",
   "execution_count": null,
   "metadata": {},
   "outputs": [],
   "source": []
  }
 ],
 "metadata": {
  "kernelspec": {
   "display_name": "rag",
   "language": "python",
   "name": "python3"
  },
  "language_info": {
   "codemirror_mode": {
    "name": "ipython",
    "version": 3
   },
   "file_extension": ".py",
   "mimetype": "text/x-python",
   "name": "python",
   "nbconvert_exporter": "python",
   "pygments_lexer": "ipython3",
   "version": "3.11.7"
  }
 },
 "nbformat": 4,
 "nbformat_minor": 2
}
